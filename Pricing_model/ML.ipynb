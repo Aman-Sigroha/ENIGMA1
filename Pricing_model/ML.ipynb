{
 "cells": [
  {
   "cell_type": "code",
   "execution_count": 8,
   "id": "5d7aa3bf-761c-4940-b82e-0399e2b662ea",
   "metadata": {
    "tags": []
   },
   "outputs": [
    {
     "name": "stdout",
     "output_type": "stream",
     "text": [
      "Predicted price: [263.49896483]\n"
     ]
    },
    {
     "data": {
      "application/vnd.plotly.v1+json": {
       "config": {
        "plotlyServerURL": "https://plot.ly"
       },
       "data": [
        {
         "mode": "markers",
         "name": "Actual vs Predicted",
         "type": "scatter",
         "x": [
          614.288912211575,
          619.5712719421487,
          694.2814996808976,
          626.1006674490017,
          338.8251924747954,
          1008.681569843489,
          255.03496254417124,
          162.86885815137614,
          698.2195780748161,
          224.76942612862038,
          645.2204741255908,
          305.9820599348604,
          53.74327220728414,
          1629.4190108154107,
          287.49590469717,
          729.4368697135036,
          886.8664638724589,
          456.59491663263407,
          302.6887466045764,
          980.6766230838559,
          1032.9959627344213,
          80.81411700027053,
          251.87576825533526,
          563.6804310854117,
          604.2407113472003,
          936.9204809157162,
          194.1191127746037,
          978.5994111215849,
          425.18624190747926,
          882.7521058916373,
          326.70335246906865,
          239.3902046891728,
          610.1560032102365,
          234.53766777673306,
          1275.101691524247,
          320.81123118097145,
          388.10050617825055,
          231.45519848457957,
          402.68097478158546,
          197.739650120686,
          988.8216130263982,
          1603.6423881210865,
          1087.7333100321705,
          1267.1421645758649,
          1152.1312399910862,
          478.5559800108727,
          890.7887956827417,
          1576.0278829114404,
          381.85215118237585,
          1627.4698265044085,
          974.2152722945849,
          455.59167702975486,
          850.012111745254,
          551.2381435345196,
          537.4885299335115,
          359.7081117943463,
          328.84015867026363,
          1588.4298556938925,
          1677.4102458748239,
          630.0223688711988,
          961.7745085170942,
          1048.5335744440677,
          655.7098846418044,
          814.1434262699445,
          1362.5033016643506,
          408.3621678357011,
          415.25710035208516,
          289.6137516903042,
          868.7971285946797,
          200.60572418730754,
          541.9713979967344,
          287.8699563445968,
          534.2370389885843,
          1188.4840897569661,
          364.749074636435,
          511.40982488215275,
          327.51910669378384,
          2589.3108788505524,
          1467.1269198237885,
          1074.037818618396,
          615.7306566898939,
          818.9471855560543,
          2783.6811375735433,
          173.34355137114665,
          593.230091367615,
          558.1451943449424,
          520.4605807220448,
          52.75247009136792,
          939.2587430428053,
          989.8988457611639,
          682.1763357039314,
          159.7662410865569,
          583.8091980919631,
          1077.5190382073047,
          464.68041315379577,
          1128.216701883742,
          1297.7348874505192,
          523.8022066426988,
          393.5496800050219,
          1190.1295913638617,
          356.1438919367487,
          420.1689021737655,
          361.16983283428436,
          506.92705828194045,
          839.6445463868426,
          483.08999348865666,
          741.5776878423202,
          494.70521414300595,
          755.0415928216725,
          158.17431074893037,
          551.3934733911599,
          325.4160129798869,
          1558.41783767507,
          232.52613102851748,
          40.99340425482605,
          73.815119640662,
          319.7494654795033,
          370.11488315746317,
          1487.2543053109744,
          168.01475871025698,
          803.0738771911136,
          357.3580663321614,
          277.4920173466365,
          242.03504154690663,
          1050.9213345108287,
          186.73590074103828,
          604.739497065753,
          584.3820409570446,
          753.4639845427931,
          182.13274380620683,
          691.6916123858213,
          780.9145039518611,
          1681.8363092459815,
          124.5678973606918,
          891.835620475924,
          560.440488884175,
          565.1938387126878,
          308.47313565290716,
          1663.7583766492608,
          853.0824164749882,
          799.2908940827497,
          32.354312522312306,
          930.0211411163025,
          1893.4259284592706,
          797.9888463433637,
          1073.6182196185569,
          873.352468251193,
          484.4484700942458,
          448.9427469990342,
          394.40755467930296,
          715.674987640115,
          2125.8740955176313,
          309.6726242107452,
          248.12369302054427,
          447.56488006279307,
          115.22721106530331,
          865.8403406114085,
          1511.6299533008407,
          341.0241029783227,
          37.77099218671988,
          941.8882124313494,
          1449.025020433162,
          1142.3435058739894,
          642.3294933457973,
          135.15247471472526,
          1475.1222582618138,
          757.1435270271558,
          1051.117783334278,
          1558.5236268093047,
          873.8011303443627,
          450.77447417262493,
          567.5318300844349,
          579.2402319134828,
          427.95290843121495,
          204.20807438797758,
          420.04141416305896,
          622.0378047324193,
          324.873747203077,
          84.02224207338016,
          333.22868671631346,
          1254.9802256182686,
          191.12530561187828,
          345.90279857202637,
          1629.1678959700464,
          996.2844378705316,
          601.4079342960596,
          228.9355531701539,
          188.1097994806941,
          1157.5457144081424,
          120.820662212846,
          153.41580003475815,
          869.8300131348389,
          1205.5081510660357,
          789.2254052469862,
          906.4014526534187,
          1015.4711949160716,
          407.1660314055159,
          862.1180434539936,
          729.767726256892,
          230.40221426981705
         ],
         "y": [
          511.47329757542377,
          821.5205440503039,
          891.653546373023,
          740.1195728791769,
          228.0134041261784,
          1100.10418102878,
          305.93566372813797,
          214.98917160511678,
          500.87138965276824,
          214.48550581629857,
          660.8791395302708,
          432.6573919251496,
          101.24874123818933,
          1586.526050724348,
          367.15425449497525,
          763.0023015356851,
          1147.7430468053149,
          399.64608074464724,
          472.08854740634763,
          740.3563726398091,
          939.6265489890664,
          115.10851775859933,
          244.95776881996747,
          601.1859027324924,
          547.9737882594853,
          1406.1395238225477,
          220.27462554007485,
          931.8789210373053,
          482.4145993901552,
          1189.6917442617073,
          581.9869637493314,
          185.91916270725181,
          697.431581492071,
          317.1156150419476,
          1148.6032878220565,
          563.239944501703,
          407.39978365294024,
          266.2336677560969,
          363.91524612134856,
          303.125008639902,
          989.1781475890617,
          1253.370691913926,
          940.7386930410834,
          1507.2380797928643,
          1299.4528703546632,
          514.5900695759858,
          785.7194062274511,
          1594.7482756200102,
          493.4467344341364,
          1208.2102786086505,
          1037.1736974063238,
          423.67437633314296,
          914.2432371095663,
          507.8339075091484,
          483.83074177153475,
          404.0075425099286,
          322.34616767025955,
          1506.0961573743905,
          1313.4609944782496,
          601.6440719429703,
          1186.0487465935428,
          883.7797649813463,
          826.8559141252705,
          955.1748647791817,
          1775.86656005405,
          581.0061836322398,
          434.7566852957101,
          321.1551060743132,
          809.0774666966037,
          234.55460929863304,
          489.5268895915059,
          187.64661055369285,
          758.4051432902774,
          1332.6013027207027,
          320.68029447726906,
          522.351350611279,
          306.58628640932693,
          2169.437083066945,
          1320.479238387615,
          933.0315288695595,
          801.35654767198,
          631.4231758822759,
          2287.7018311378506,
          151.90666309283503,
          694.5222372263905,
          796.2488763483269,
          454.34806872814863,
          73.83793311075216,
          799.3144878767281,
          1253.9186303685296,
          941.7299357115357,
          217.07644155193924,
          523.7309598865667,
          1319.9596425754564,
          496.48952090546334,
          1352.1950491219138,
          812.8974072366966,
          398.08400817848093,
          637.8772384543915,
          1108.350318986559,
          312.34970850044397,
          444.1408097576129,
          323.5436210542706,
          528.148882221704,
          908.3257571317807,
          581.1629412634178,
          791.1371404537828,
          637.8225617344533,
          764.0252425513648,
          206.3894193905506,
          510.3570308236951,
          445.8699155274639,
          1511.819473322428,
          206.9540918749651,
          59.19786216307875,
          85.04942602759814,
          279.75680312917103,
          533.22994516308,
          1426.8208932264915,
          292.31350549396325,
          599.5274411852585,
          460.84858061872126,
          359.70976777067807,
          267.05855266274034,
          1238.0450867143988,
          175.4132280228062,
          670.4757524118412,
          685.4702121540125,
          577.0480289752286,
          272.33022893238757,
          925.6493300511394,
          701.9706824951375,
          1638.8168564342368,
          170.2946120216866,
          748.9542112314932,
          629.4468250685444,
          669.4784586463459,
          291.9522389142521,
          2623.4285640443272,
          867.2183337122098,
          866.7593430386021,
          62.06690635280137,
          940.2000412392667,
          1184.156989333559,
          801.265486616117,
          926.0269969455912,
          1206.6295756496515,
          433.0286060171217,
          520.0536639333998,
          457.2686327958855,
          589.9023908621841,
          1931.296581917329,
          355.6499511856894,
          347.76677856697,
          421.6335438708452,
          213.54988540874874,
          735.4199114423074,
          1178.837692464006,
          519.9601491132078,
          40.63571708937736,
          1040.924531041567,
          1076.8952473836077,
          1295.6389521086342,
          769.0497912949527,
          161.2385974992664,
          1337.4648776681759,
          863.1872057452974,
          894.8120550412016,
          1134.7289149375727,
          974.4868555056507,
          448.6446779492799,
          691.588730272674,
          635.0796074543368,
          902.5824180283146,
          302.6057907171988,
          351.0312199334003,
          619.3003694636488,
          271.01642539947267,
          96.01503182011609,
          390.53585593680634,
          1154.598074771289,
          217.04428480385505,
          456.908393330757,
          1621.1798197849514,
          1033.8974123974413,
          852.317923605612,
          247.62823219642297,
          155.2710607015175,
          1232.0639699590968,
          198.18206631611184,
          162.77690766801794,
          918.3193968197322,
          1132.282561359239,
          731.6832648201929,
          1142.111740583605,
          1317.6703537316512,
          412.172223551579,
          784.8150122291836,
          894.608354442067,
          290.4966889100476
         ]
        },
        {
         "line": {
          "color": "red",
          "dash": "dash"
         },
         "mode": "lines",
         "name": "Ideal",
         "type": "scatter",
         "x": [
          32.354312522312306,
          2783.6811375735433
         ],
         "y": [
          32.354312522312306,
          2783.6811375735433
         ]
        }
       ],
       "layout": {
        "autosize": true,
        "showlegend": true,
        "template": {
         "data": {
          "bar": [
           {
            "error_x": {
             "color": "#2a3f5f"
            },
            "error_y": {
             "color": "#2a3f5f"
            },
            "marker": {
             "line": {
              "color": "#E5ECF6",
              "width": 0.5
             },
             "pattern": {
              "fillmode": "overlay",
              "size": 10,
              "solidity": 0.2
             }
            },
            "type": "bar"
           }
          ],
          "barpolar": [
           {
            "marker": {
             "line": {
              "color": "#E5ECF6",
              "width": 0.5
             },
             "pattern": {
              "fillmode": "overlay",
              "size": 10,
              "solidity": 0.2
             }
            },
            "type": "barpolar"
           }
          ],
          "carpet": [
           {
            "aaxis": {
             "endlinecolor": "#2a3f5f",
             "gridcolor": "white",
             "linecolor": "white",
             "minorgridcolor": "white",
             "startlinecolor": "#2a3f5f"
            },
            "baxis": {
             "endlinecolor": "#2a3f5f",
             "gridcolor": "white",
             "linecolor": "white",
             "minorgridcolor": "white",
             "startlinecolor": "#2a3f5f"
            },
            "type": "carpet"
           }
          ],
          "choropleth": [
           {
            "colorbar": {
             "outlinewidth": 0,
             "ticks": ""
            },
            "type": "choropleth"
           }
          ],
          "contour": [
           {
            "colorbar": {
             "outlinewidth": 0,
             "ticks": ""
            },
            "colorscale": [
             [
              0,
              "#0d0887"
             ],
             [
              0.1111111111111111,
              "#46039f"
             ],
             [
              0.2222222222222222,
              "#7201a8"
             ],
             [
              0.3333333333333333,
              "#9c179e"
             ],
             [
              0.4444444444444444,
              "#bd3786"
             ],
             [
              0.5555555555555556,
              "#d8576b"
             ],
             [
              0.6666666666666666,
              "#ed7953"
             ],
             [
              0.7777777777777778,
              "#fb9f3a"
             ],
             [
              0.8888888888888888,
              "#fdca26"
             ],
             [
              1,
              "#f0f921"
             ]
            ],
            "type": "contour"
           }
          ],
          "contourcarpet": [
           {
            "colorbar": {
             "outlinewidth": 0,
             "ticks": ""
            },
            "type": "contourcarpet"
           }
          ],
          "heatmap": [
           {
            "colorbar": {
             "outlinewidth": 0,
             "ticks": ""
            },
            "colorscale": [
             [
              0,
              "#0d0887"
             ],
             [
              0.1111111111111111,
              "#46039f"
             ],
             [
              0.2222222222222222,
              "#7201a8"
             ],
             [
              0.3333333333333333,
              "#9c179e"
             ],
             [
              0.4444444444444444,
              "#bd3786"
             ],
             [
              0.5555555555555556,
              "#d8576b"
             ],
             [
              0.6666666666666666,
              "#ed7953"
             ],
             [
              0.7777777777777778,
              "#fb9f3a"
             ],
             [
              0.8888888888888888,
              "#fdca26"
             ],
             [
              1,
              "#f0f921"
             ]
            ],
            "type": "heatmap"
           }
          ],
          "heatmapgl": [
           {
            "colorbar": {
             "outlinewidth": 0,
             "ticks": ""
            },
            "colorscale": [
             [
              0,
              "#0d0887"
             ],
             [
              0.1111111111111111,
              "#46039f"
             ],
             [
              0.2222222222222222,
              "#7201a8"
             ],
             [
              0.3333333333333333,
              "#9c179e"
             ],
             [
              0.4444444444444444,
              "#bd3786"
             ],
             [
              0.5555555555555556,
              "#d8576b"
             ],
             [
              0.6666666666666666,
              "#ed7953"
             ],
             [
              0.7777777777777778,
              "#fb9f3a"
             ],
             [
              0.8888888888888888,
              "#fdca26"
             ],
             [
              1,
              "#f0f921"
             ]
            ],
            "type": "heatmapgl"
           }
          ],
          "histogram": [
           {
            "marker": {
             "pattern": {
              "fillmode": "overlay",
              "size": 10,
              "solidity": 0.2
             }
            },
            "type": "histogram"
           }
          ],
          "histogram2d": [
           {
            "colorbar": {
             "outlinewidth": 0,
             "ticks": ""
            },
            "colorscale": [
             [
              0,
              "#0d0887"
             ],
             [
              0.1111111111111111,
              "#46039f"
             ],
             [
              0.2222222222222222,
              "#7201a8"
             ],
             [
              0.3333333333333333,
              "#9c179e"
             ],
             [
              0.4444444444444444,
              "#bd3786"
             ],
             [
              0.5555555555555556,
              "#d8576b"
             ],
             [
              0.6666666666666666,
              "#ed7953"
             ],
             [
              0.7777777777777778,
              "#fb9f3a"
             ],
             [
              0.8888888888888888,
              "#fdca26"
             ],
             [
              1,
              "#f0f921"
             ]
            ],
            "type": "histogram2d"
           }
          ],
          "histogram2dcontour": [
           {
            "colorbar": {
             "outlinewidth": 0,
             "ticks": ""
            },
            "colorscale": [
             [
              0,
              "#0d0887"
             ],
             [
              0.1111111111111111,
              "#46039f"
             ],
             [
              0.2222222222222222,
              "#7201a8"
             ],
             [
              0.3333333333333333,
              "#9c179e"
             ],
             [
              0.4444444444444444,
              "#bd3786"
             ],
             [
              0.5555555555555556,
              "#d8576b"
             ],
             [
              0.6666666666666666,
              "#ed7953"
             ],
             [
              0.7777777777777778,
              "#fb9f3a"
             ],
             [
              0.8888888888888888,
              "#fdca26"
             ],
             [
              1,
              "#f0f921"
             ]
            ],
            "type": "histogram2dcontour"
           }
          ],
          "mesh3d": [
           {
            "colorbar": {
             "outlinewidth": 0,
             "ticks": ""
            },
            "type": "mesh3d"
           }
          ],
          "parcoords": [
           {
            "line": {
             "colorbar": {
              "outlinewidth": 0,
              "ticks": ""
             }
            },
            "type": "parcoords"
           }
          ],
          "pie": [
           {
            "automargin": true,
            "type": "pie"
           }
          ],
          "scatter": [
           {
            "fillpattern": {
             "fillmode": "overlay",
             "size": 10,
             "solidity": 0.2
            },
            "type": "scatter"
           }
          ],
          "scatter3d": [
           {
            "line": {
             "colorbar": {
              "outlinewidth": 0,
              "ticks": ""
             }
            },
            "marker": {
             "colorbar": {
              "outlinewidth": 0,
              "ticks": ""
             }
            },
            "type": "scatter3d"
           }
          ],
          "scattercarpet": [
           {
            "marker": {
             "colorbar": {
              "outlinewidth": 0,
              "ticks": ""
             }
            },
            "type": "scattercarpet"
           }
          ],
          "scattergeo": [
           {
            "marker": {
             "colorbar": {
              "outlinewidth": 0,
              "ticks": ""
             }
            },
            "type": "scattergeo"
           }
          ],
          "scattergl": [
           {
            "marker": {
             "colorbar": {
              "outlinewidth": 0,
              "ticks": ""
             }
            },
            "type": "scattergl"
           }
          ],
          "scattermapbox": [
           {
            "marker": {
             "colorbar": {
              "outlinewidth": 0,
              "ticks": ""
             }
            },
            "type": "scattermapbox"
           }
          ],
          "scatterpolar": [
           {
            "marker": {
             "colorbar": {
              "outlinewidth": 0,
              "ticks": ""
             }
            },
            "type": "scatterpolar"
           }
          ],
          "scatterpolargl": [
           {
            "marker": {
             "colorbar": {
              "outlinewidth": 0,
              "ticks": ""
             }
            },
            "type": "scatterpolargl"
           }
          ],
          "scatterternary": [
           {
            "marker": {
             "colorbar": {
              "outlinewidth": 0,
              "ticks": ""
             }
            },
            "type": "scatterternary"
           }
          ],
          "surface": [
           {
            "colorbar": {
             "outlinewidth": 0,
             "ticks": ""
            },
            "colorscale": [
             [
              0,
              "#0d0887"
             ],
             [
              0.1111111111111111,
              "#46039f"
             ],
             [
              0.2222222222222222,
              "#7201a8"
             ],
             [
              0.3333333333333333,
              "#9c179e"
             ],
             [
              0.4444444444444444,
              "#bd3786"
             ],
             [
              0.5555555555555556,
              "#d8576b"
             ],
             [
              0.6666666666666666,
              "#ed7953"
             ],
             [
              0.7777777777777778,
              "#fb9f3a"
             ],
             [
              0.8888888888888888,
              "#fdca26"
             ],
             [
              1,
              "#f0f921"
             ]
            ],
            "type": "surface"
           }
          ],
          "table": [
           {
            "cells": {
             "fill": {
              "color": "#EBF0F8"
             },
             "line": {
              "color": "white"
             }
            },
            "header": {
             "fill": {
              "color": "#C8D4E3"
             },
             "line": {
              "color": "white"
             }
            },
            "type": "table"
           }
          ]
         },
         "layout": {
          "annotationdefaults": {
           "arrowcolor": "#2a3f5f",
           "arrowhead": 0,
           "arrowwidth": 1
          },
          "autotypenumbers": "strict",
          "coloraxis": {
           "colorbar": {
            "outlinewidth": 0,
            "ticks": ""
           }
          },
          "colorscale": {
           "diverging": [
            [
             0,
             "#8e0152"
            ],
            [
             0.1,
             "#c51b7d"
            ],
            [
             0.2,
             "#de77ae"
            ],
            [
             0.3,
             "#f1b6da"
            ],
            [
             0.4,
             "#fde0ef"
            ],
            [
             0.5,
             "#f7f7f7"
            ],
            [
             0.6,
             "#e6f5d0"
            ],
            [
             0.7,
             "#b8e186"
            ],
            [
             0.8,
             "#7fbc41"
            ],
            [
             0.9,
             "#4d9221"
            ],
            [
             1,
             "#276419"
            ]
           ],
           "sequential": [
            [
             0,
             "#0d0887"
            ],
            [
             0.1111111111111111,
             "#46039f"
            ],
            [
             0.2222222222222222,
             "#7201a8"
            ],
            [
             0.3333333333333333,
             "#9c179e"
            ],
            [
             0.4444444444444444,
             "#bd3786"
            ],
            [
             0.5555555555555556,
             "#d8576b"
            ],
            [
             0.6666666666666666,
             "#ed7953"
            ],
            [
             0.7777777777777778,
             "#fb9f3a"
            ],
            [
             0.8888888888888888,
             "#fdca26"
            ],
            [
             1,
             "#f0f921"
            ]
           ],
           "sequentialminus": [
            [
             0,
             "#0d0887"
            ],
            [
             0.1111111111111111,
             "#46039f"
            ],
            [
             0.2222222222222222,
             "#7201a8"
            ],
            [
             0.3333333333333333,
             "#9c179e"
            ],
            [
             0.4444444444444444,
             "#bd3786"
            ],
            [
             0.5555555555555556,
             "#d8576b"
            ],
            [
             0.6666666666666666,
             "#ed7953"
            ],
            [
             0.7777777777777778,
             "#fb9f3a"
            ],
            [
             0.8888888888888888,
             "#fdca26"
            ],
            [
             1,
             "#f0f921"
            ]
           ]
          },
          "colorway": [
           "#636efa",
           "#EF553B",
           "#00cc96",
           "#ab63fa",
           "#FFA15A",
           "#19d3f3",
           "#FF6692",
           "#B6E880",
           "#FF97FF",
           "#FECB52"
          ],
          "font": {
           "color": "#2a3f5f"
          },
          "geo": {
           "bgcolor": "white",
           "lakecolor": "white",
           "landcolor": "#E5ECF6",
           "showlakes": true,
           "showland": true,
           "subunitcolor": "white"
          },
          "hoverlabel": {
           "align": "left"
          },
          "hovermode": "closest",
          "mapbox": {
           "style": "light"
          },
          "paper_bgcolor": "white",
          "plot_bgcolor": "#E5ECF6",
          "polar": {
           "angularaxis": {
            "gridcolor": "white",
            "linecolor": "white",
            "ticks": ""
           },
           "bgcolor": "#E5ECF6",
           "radialaxis": {
            "gridcolor": "white",
            "linecolor": "white",
            "ticks": ""
           }
          },
          "scene": {
           "xaxis": {
            "backgroundcolor": "#E5ECF6",
            "gridcolor": "white",
            "gridwidth": 2,
            "linecolor": "white",
            "showbackground": true,
            "ticks": "",
            "zerolinecolor": "white"
           },
           "yaxis": {
            "backgroundcolor": "#E5ECF6",
            "gridcolor": "white",
            "gridwidth": 2,
            "linecolor": "white",
            "showbackground": true,
            "ticks": "",
            "zerolinecolor": "white"
           },
           "zaxis": {
            "backgroundcolor": "#E5ECF6",
            "gridcolor": "white",
            "gridwidth": 2,
            "linecolor": "white",
            "showbackground": true,
            "ticks": "",
            "zerolinecolor": "white"
           }
          },
          "shapedefaults": {
           "line": {
            "color": "#2a3f5f"
           }
          },
          "ternary": {
           "aaxis": {
            "gridcolor": "white",
            "linecolor": "white",
            "ticks": ""
           },
           "baxis": {
            "gridcolor": "white",
            "linecolor": "white",
            "ticks": ""
           },
           "bgcolor": "#E5ECF6",
           "caxis": {
            "gridcolor": "white",
            "linecolor": "white",
            "ticks": ""
           }
          },
          "title": {
           "x": 0.05
          },
          "xaxis": {
           "automargin": true,
           "gridcolor": "white",
           "linecolor": "white",
           "ticks": "",
           "title": {
            "standoff": 15
           },
           "zerolinecolor": "white",
           "zerolinewidth": 2
          },
          "yaxis": {
           "automargin": true,
           "gridcolor": "white",
           "linecolor": "white",
           "ticks": "",
           "title": {
            "standoff": 15
           },
           "zerolinecolor": "white",
           "zerolinewidth": 2
          }
         }
        },
        "title": {
         "text": "Actual vs Predicted Values"
        },
        "xaxis": {
         "autorange": true,
         "range": [
          -145.6372255018353,
          2961.672675597691
         ],
         "title": {
          "text": "Actual Values"
         },
         "type": "linear"
        },
        "yaxis": {
         "autorange": true,
         "range": [
          -180.3679423809109,
          2939.683720729041
         ],
         "title": {
          "text": "Predicted Values"
         },
         "type": "linear"
        }
       }
      },
      "image/png": "[encoded data removed]",
      "text/html": [
       "<div>                            <div id=\"a8bca24b-7b06-4ad5-a70f-26fa2cd33c3e\" class=\"plotly-graph-div\" style=\"height:525px; width:100%;\"></div>            <script type=\"text/javascript\">                require([\"plotly\"], function(Plotly) {                    window.PLOTLYENV=window.PLOTLYENV || {};                                    if (document.getElementById(\"a8bca24b-7b06-4ad5-a70f-26fa2cd33c3e\")) {                    Plotly.newPlot(                        \"a8bca24b-7b06-4ad5-a70f-26fa2cd33c3e\",                        [{\"mode\":\"markers\",\"name\":\"Actual vs Predicted\",\"x\":[614.288912211575,619.5712719421487,694.2814996808976,626.1006674490017,338.8251924747954,1008.681569843489,255.03496254417124,162.86885815137614,698.2195780748161,224.76942612862038,645.2204741255908,305.9820599348604,53.74327220728414,1629.4190108154107,287.49590469717,729.4368697135036,886.8664638724589,456.59491663263407,302.6887466045764,980.6766230838559,1032.9959627344213,80.81411700027053,251.87576825533526,563.6804310854117,604.2407113472003,936.9204809157162,194.1191127746037,978.5994111215849,425.18624190747926,882.7521058916373,326.70335246906865,239.3902046891728,610.1560032102365,234.53766777673306,1275.101691524247,320.81123118097145,388.10050617825055,231.45519848457957,402.68097478158546,197.739650120686,988.8216130263982,1603.6423881210865,1087.7333100321705,1267.1421645758649,1152.1312399910862,478.5559800108727,890.7887956827417,1576.0278829114404,381.85215118237585,1627.4698265044085,974.2152722945849,455.59167702975486,850.012111745254,551.2381435345196,537.4885299335115,359.7081117943463,328.84015867026363,1588.4298556938925,1677.4102458748239,630.0223688711988,961.7745085170942,1048.5335744440677,655.7098846418044,814.1434262699445,1362.5033016643506,408.3621678357011,415.25710035208516,289.6137516903042,868.7971285946797,200.60572418730754,541.9713979967344,287.8699563445968,534.2370389885843,1188.4840897569661,364.749074636435,511.40982488215275,327.51910669378384,2589.3108788505524,1467.1269198237885,1074.037818618396,615.7306566898939,818.9471855560543,2783.6811375735433,173.34355137114665,593.230091367615,558.1451943449424,520.4605807220448,52.75247009136792,939.2587430428053,989.8988457611639,682.1763357039314,159.7662410865569,583.8091980919631,1077.5190382073047,464.68041315379577,1128.216701883742,1297.7348874505192,523.8022066426988,393.5496800050219,1190.1295913638617,356.1438919367487,420.1689021737655,361.16983283428436,506.92705828194045,839.6445463868426,483.08999348865666,741.5776878423202,494.70521414300595,755.0415928216725,158.17431074893037,551.3934733911599,325.4160129798869,1558.41783767507,232.52613102851748,40.99340425482605,73.815119640662,319.7494654795033,370.11488315746317,1487.2543053109744,168.01475871025698,803.0738771911136,357.3580663321614,277.4920173466365,242.03504154690663,1050.9213345108287,186.73590074103828,604.739497065753,584.3820409570446,753.4639845427931,182.13274380620683,691.6916123858213,780.9145039518611,1681.8363092459815,124.5678973606918,891.835620475924,560.440488884175,565.1938387126878,308.47313565290716,1663.7583766492608,853.0824164749882,799.2908940827497,32.354312522312306,930.0211411163025,1893.4259284592706,797.9888463433637,1073.6182196185569,873.352468251193,484.4484700942458,448.9427469990342,394.40755467930296,715.674987640115,2125.8740955176313,309.6726242107452,248.12369302054427,447.56488006279307,115.22721106530331,865.8403406114085,1511.6299533008407,341.0241029783227,37.77099218671988,941.8882124313494,1449.025020433162,1142.3435058739894,642.3294933457973,135.15247471472526,1475.1222582618138,757.1435270271558,1051.117783334278,1558.5236268093047,873.8011303443627,450.77447417262493,567.5318300844349,579.2402319134828,427.95290843121495,204.20807438797758,420.04141416305896,622.0378047324193,324.873747203077,84.02224207338016,333.22868671631346,1254.9802256182686,191.12530561187828,345.90279857202637,1629.1678959700464,996.2844378705316,601.4079342960596,228.9355531701539,188.1097994806941,1157.5457144081424,120.820662212846,153.41580003475815,869.8300131348389,1205.5081510660357,789.2254052469862,906.4014526534187,1015.4711949160716,407.1660314055159,862.1180434539936,729.767726256892,230.40221426981705],\"y\":[511.47329757542377,821.5205440503039,891.653546373023,740.1195728791769,228.0134041261784,1100.10418102878,305.93566372813797,214.98917160511678,500.87138965276824,214.48550581629857,660.8791395302708,432.6573919251496,101.24874123818933,1586.526050724348,367.15425449497525,763.0023015356851,1147.7430468053149,399.64608074464724,472.08854740634763,740.3563726398091,939.6265489890664,115.10851775859933,244.95776881996747,601.1859027324924,547.9737882594853,1406.1395238225477,220.27462554007485,931.8789210373053,482.4145993901552,1189.6917442617073,581.9869637493314,185.91916270725181,697.431581492071,317.1156150419476,1148.6032878220565,563.239944501703,407.39978365294024,266.2336677560969,363.91524612134856,303.125008639902,989.1781475890617,1253.370691913926,940.7386930410834,1507.2380797928643,1299.4528703546632,514.5900695759858,785.7194062274511,1594.7482756200102,493.4467344341364,1208.2102786086505,1037.1736974063238,423.67437633314296,914.2432371095663,507.8339075091484,483.83074177153475,404.0075425099286,322.34616767025955,1506.0961573743905,1313.4609944782496,601.6440719429703,1186.0487465935428,883.7797649813463,826.8559141252705,955.1748647791817,1775.86656005405,581.0061836322398,434.7566852957101,321.1551060743132,809.0774666966037,234.55460929863304,489.5268895915059,187.64661055369285,758.4051432902774,1332.6013027207027,320.68029447726906,522.351350611279,306.58628640932693,2169.437083066945,1320.479238387615,933.0315288695595,801.35654767198,631.4231758822759,2287.7018311378506,151.90666309283503,694.5222372263905,796.2488763483269,454.34806872814863,73.83793311075216,799.3144878767281,1253.9186303685296,941.7299357115357,217.07644155193924,523.7309598865667,1319.9596425754564,496.48952090546334,1352.1950491219138,812.8974072366966,398.08400817848093,637.8772384543915,1108.350318986559,312.34970850044397,444.1408097576129,323.5436210542706,528.148882221704,908.3257571317807,581.1629412634178,791.1371404537828,637.8225617344533,764.0252425513648,206.3894193905506,510.3570308236951,445.8699155274639,1511.819473322428,206.9540918749651,59.19786216307875,85.04942602759814,279.75680312917103,533.22994516308,1426.8208932264915,292.31350549396325,599.5274411852585,460.84858061872126,359.70976777067807,267.05855266274034,1238.0450867143988,175.4132280228062,670.4757524118412,685.4702121540125,577.0480289752286,272.33022893238757,925.6493300511394,701.9706824951375,1638.8168564342368,170.2946120216866,748.9542112314932,629.4468250685444,669.4784586463459,291.9522389142521,2623.4285640443272,867.2183337122098,866.7593430386021,62.06690635280137,940.2000412392667,1184.156989333559,801.265486616117,926.0269969455912,1206.6295756496515,433.0286060171217,520.0536639333998,457.2686327958855,589.9023908621841,1931.296581917329,355.6499511856894,347.76677856697,421.6335438708452,213.54988540874874,735.4199114423074,1178.837692464006,519.9601491132078,40.63571708937736,1040.924531041567,1076.8952473836077,1295.6389521086342,769.0497912949527,161.2385974992664,1337.4648776681759,863.1872057452974,894.8120550412016,1134.7289149375727,974.4868555056507,448.6446779492799,691.588730272674,635.0796074543368,902.5824180283146,302.6057907171988,351.0312199334003,619.3003694636488,271.01642539947267,96.01503182011609,390.53585593680634,1154.598074771289,217.04428480385505,456.908393330757,1621.1798197849514,1033.8974123974413,852.317923605612,247.62823219642297,155.2710607015175,1232.0639699590968,198.18206631611184,162.77690766801794,918.3193968197322,1132.282561359239,731.6832648201929,1142.111740583605,1317.6703537316512,412.172223551579,784.8150122291836,894.608354442067,290.4966889100476],\"type\":\"scatter\"},{\"line\":{\"color\":\"red\",\"dash\":\"dash\"},\"mode\":\"lines\",\"name\":\"Ideal\",\"x\":[32.354312522312306,2783.6811375735433],\"y\":[32.354312522312306,2783.6811375735433],\"type\":\"scatter\"}],                        {\"template\":{\"data\":{\"histogram2dcontour\":[{\"type\":\"histogram2dcontour\",\"colorbar\":{\"outlinewidth\":0,\"ticks\":\"\"},\"colorscale\":[[0.0,\"#0d0887\"],[0.1111111111111111,\"#46039f\"],[0.2222222222222222,\"#7201a8\"],[0.3333333333333333,\"#9c179e\"],[0.4444444444444444,\"#bd3786\"],[0.5555555555555556,\"#d8576b\"],[0.6666666666666666,\"#ed7953\"],[0.7777777777777778,\"#fb9f3a\"],[0.8888888888888888,\"#fdca26\"],[1.0,\"#f0f921\"]]}],\"choropleth\":[{\"type\":\"choropleth\",\"colorbar\":{\"outlinewidth\":0,\"ticks\":\"\"}}],\"histogram2d\":[{\"type\":\"histogram2d\",\"colorbar\":{\"outlinewidth\":0,\"ticks\":\"\"},\"colorscale\":[[0.0,\"#0d0887\"],[0.1111111111111111,\"#46039f\"],[0.2222222222222222,\"#7201a8\"],[0.3333333333333333,\"#9c179e\"],[0.4444444444444444,\"#bd3786\"],[0.5555555555555556,\"#d8576b\"],[0.6666666666666666,\"#ed7953\"],[0.7777777777777778,\"#fb9f3a\"],[0.8888888888888888,\"#fdca26\"],[1.0,\"#f0f921\"]]}],\"heatmap\":[{\"type\":\"heatmap\",\"colorbar\":{\"outlinewidth\":0,\"ticks\":\"\"},\"colorscale\":[[0.0,\"#0d0887\"],[0.1111111111111111,\"#46039f\"],[0.2222222222222222,\"#7201a8\"],[0.3333333333333333,\"#9c179e\"],[0.4444444444444444,\"#bd3786\"],[0.5555555555555556,\"#d8576b\"],[0.6666666666666666,\"#ed7953\"],[0.7777777777777778,\"#fb9f3a\"],[0.8888888888888888,\"#fdca26\"],[1.0,\"#f0f921\"]]}],\"heatmapgl\":[{\"type\":\"heatmapgl\",\"colorbar\":{\"outlinewidth\":0,\"ticks\":\"\"},\"colorscale\":[[0.0,\"#0d0887\"],[0.1111111111111111,\"#46039f\"],[0.2222222222222222,\"#7201a8\"],[0.3333333333333333,\"#9c179e\"],[0.4444444444444444,\"#bd3786\"],[0.5555555555555556,\"#d8576b\"],[0.6666666666666666,\"#ed7953\"],[0.7777777777777778,\"#fb9f3a\"],[0.8888888888888888,\"#fdca26\"],[1.0,\"#f0f921\"]]}],\"contourcarpet\":[{\"type\":\"contourcarpet\",\"colorbar\":{\"outlinewidth\":0,\"ticks\":\"\"}}],\"contour\":[{\"type\":\"contour\",\"colorbar\":{\"outlinewidth\":0,\"ticks\":\"\"},\"colorscale\":[[0.0,\"#0d0887\"],[0.1111111111111111,\"#46039f\"],[0.2222222222222222,\"#7201a8\"],[0.3333333333333333,\"#9c179e\"],[0.4444444444444444,\"#bd3786\"],[0.5555555555555556,\"#d8576b\"],[0.6666666666666666,\"#ed7953\"],[0.7777777777777778,\"#fb9f3a\"],[0.8888888888888888,\"#fdca26\"],[1.0,\"#f0f921\"]]}],\"surface\":[{\"type\":\"surface\",\"colorbar\":{\"outlinewidth\":0,\"ticks\":\"\"},\"colorscale\":[[0.0,\"#0d0887\"],[0.1111111111111111,\"#46039f\"],[0.2222222222222222,\"#7201a8\"],[0.3333333333333333,\"#9c179e\"],[0.4444444444444444,\"#bd3786\"],[0.5555555555555556,\"#d8576b\"],[0.6666666666666666,\"#ed7953\"],[0.7777777777777778,\"#fb9f3a\"],[0.8888888888888888,\"#fdca26\"],[1.0,\"#f0f921\"]]}],\"mesh3d\":[{\"type\":\"mesh3d\",\"colorbar\":{\"outlinewidth\":0,\"ticks\":\"\"}}],\"scatter\":[{\"fillpattern\":{\"fillmode\":\"overlay\",\"size\":10,\"solidity\":0.2},\"type\":\"scatter\"}],\"parcoords\":[{\"type\":\"parcoords\",\"line\":{\"colorbar\":{\"outlinewidth\":0,\"ticks\":\"\"}}}],\"scatterpolargl\":[{\"type\":\"scatterpolargl\",\"marker\":{\"colorbar\":{\"outlinewidth\":0,\"ticks\":\"\"}}}],\"bar\":[{\"error_x\":{\"color\":\"#2a3f5f\"},\"error_y\":{\"color\":\"#2a3f5f\"},\"marker\":{\"line\":{\"color\":\"#E5ECF6\",\"width\":0.5},\"pattern\":{\"fillmode\":\"overlay\",\"size\":10,\"solidity\":0.2}},\"type\":\"bar\"}],\"scattergeo\":[{\"type\":\"scattergeo\",\"marker\":{\"colorbar\":{\"outlinewidth\":0,\"ticks\":\"\"}}}],\"scatterpolar\":[{\"type\":\"scatterpolar\",\"marker\":{\"colorbar\":{\"outlinewidth\":0,\"ticks\":\"\"}}}],\"histogram\":[{\"marker\":{\"pattern\":{\"fillmode\":\"overlay\",\"size\":10,\"solidity\":0.2}},\"type\":\"histogram\"}],\"scattergl\":[{\"type\":\"scattergl\",\"marker\":{\"colorbar\":{\"outlinewidth\":0,\"ticks\":\"\"}}}],\"scatter3d\":[{\"type\":\"scatter3d\",\"line\":{\"colorbar\":{\"outlinewidth\":0,\"ticks\":\"\"}},\"marker\":{\"colorbar\":{\"outlinewidth\":0,\"ticks\":\"\"}}}],\"scattermapbox\":[{\"type\":\"scattermapbox\",\"marker\":{\"colorbar\":{\"outlinewidth\":0,\"ticks\":\"\"}}}],\"scatterternary\":[{\"type\":\"scatterternary\",\"marker\":{\"colorbar\":{\"outlinewidth\":0,\"ticks\":\"\"}}}],\"scattercarpet\":[{\"type\":\"scattercarpet\",\"marker\":{\"colorbar\":{\"outlinewidth\":0,\"ticks\":\"\"}}}],\"carpet\":[{\"aaxis\":{\"endlinecolor\":\"#2a3f5f\",\"gridcolor\":\"white\",\"linecolor\":\"white\",\"minorgridcolor\":\"white\",\"startlinecolor\":\"#2a3f5f\"},\"baxis\":{\"endlinecolor\":\"#2a3f5f\",\"gridcolor\":\"white\",\"linecolor\":\"white\",\"minorgridcolor\":\"white\",\"startlinecolor\":\"#2a3f5f\"},\"type\":\"carpet\"}],\"table\":[{\"cells\":{\"fill\":{\"color\":\"#EBF0F8\"},\"line\":{\"color\":\"white\"}},\"header\":{\"fill\":{\"color\":\"#C8D4E3\"},\"line\":{\"color\":\"white\"}},\"type\":\"table\"}],\"barpolar\":[{\"marker\":{\"line\":{\"color\":\"#E5ECF6\",\"width\":0.5},\"pattern\":{\"fillmode\":\"overlay\",\"size\":10,\"solidity\":0.2}},\"type\":\"barpolar\"}],\"pie\":[{\"automargin\":true,\"type\":\"pie\"}]},\"layout\":{\"autotypenumbers\":\"strict\",\"colorway\":[\"#636efa\",\"#EF553B\",\"#00cc96\",\"#ab63fa\",\"#FFA15A\",\"#19d3f3\",\"#FF6692\",\"#B6E880\",\"#FF97FF\",\"#FECB52\"],\"font\":{\"color\":\"#2a3f5f\"},\"hovermode\":\"closest\",\"hoverlabel\":{\"align\":\"left\"},\"paper_bgcolor\":\"white\",\"plot_bgcolor\":\"#E5ECF6\",\"polar\":{\"bgcolor\":\"#E5ECF6\",\"angularaxis\":{\"gridcolor\":\"white\",\"linecolor\":\"white\",\"ticks\":\"\"},\"radialaxis\":{\"gridcolor\":\"white\",\"linecolor\":\"white\",\"ticks\":\"\"}},\"ternary\":{\"bgcolor\":\"#E5ECF6\",\"aaxis\":{\"gridcolor\":\"white\",\"linecolor\":\"white\",\"ticks\":\"\"},\"baxis\":{\"gridcolor\":\"white\",\"linecolor\":\"white\",\"ticks\":\"\"},\"caxis\":{\"gridcolor\":\"white\",\"linecolor\":\"white\",\"ticks\":\"\"}},\"coloraxis\":{\"colorbar\":{\"outlinewidth\":0,\"ticks\":\"\"}},\"colorscale\":{\"sequential\":[[0.0,\"#0d0887\"],[0.1111111111111111,\"#46039f\"],[0.2222222222222222,\"#7201a8\"],[0.3333333333333333,\"#9c179e\"],[0.4444444444444444,\"#bd3786\"],[0.5555555555555556,\"#d8576b\"],[0.6666666666666666,\"#ed7953\"],[0.7777777777777778,\"#fb9f3a\"],[0.8888888888888888,\"#fdca26\"],[1.0,\"#f0f921\"]],\"sequentialminus\":[[0.0,\"#0d0887\"],[0.1111111111111111,\"#46039f\"],[0.2222222222222222,\"#7201a8\"],[0.3333333333333333,\"#9c179e\"],[0.4444444444444444,\"#bd3786\"],[0.5555555555555556,\"#d8576b\"],[0.6666666666666666,\"#ed7953\"],[0.7777777777777778,\"#fb9f3a\"],[0.8888888888888888,\"#fdca26\"],[1.0,\"#f0f921\"]],\"diverging\":[[0,\"#8e0152\"],[0.1,\"#c51b7d\"],[0.2,\"#de77ae\"],[0.3,\"#f1b6da\"],[0.4,\"#fde0ef\"],[0.5,\"#f7f7f7\"],[0.6,\"#e6f5d0\"],[0.7,\"#b8e186\"],[0.8,\"#7fbc41\"],[0.9,\"#4d9221\"],[1,\"#276419\"]]},\"xaxis\":{\"gridcolor\":\"white\",\"linecolor\":\"white\",\"ticks\":\"\",\"title\":{\"standoff\":15},\"zerolinecolor\":\"white\",\"automargin\":true,\"zerolinewidth\":2},\"yaxis\":{\"gridcolor\":\"white\",\"linecolor\":\"white\",\"ticks\":\"\",\"title\":{\"standoff\":15},\"zerolinecolor\":\"white\",\"automargin\":true,\"zerolinewidth\":2},\"scene\":{\"xaxis\":{\"backgroundcolor\":\"#E5ECF6\",\"gridcolor\":\"white\",\"linecolor\":\"white\",\"showbackground\":true,\"ticks\":\"\",\"zerolinecolor\":\"white\",\"gridwidth\":2},\"yaxis\":{\"backgroundcolor\":\"#E5ECF6\",\"gridcolor\":\"white\",\"linecolor\":\"white\",\"showbackground\":true,\"ticks\":\"\",\"zerolinecolor\":\"white\",\"gridwidth\":2},\"zaxis\":{\"backgroundcolor\":\"#E5ECF6\",\"gridcolor\":\"white\",\"linecolor\":\"white\",\"showbackground\":true,\"ticks\":\"\",\"zerolinecolor\":\"white\",\"gridwidth\":2}},\"shapedefaults\":{\"line\":{\"color\":\"#2a3f5f\"}},\"annotationdefaults\":{\"arrowcolor\":\"#2a3f5f\",\"arrowhead\":0,\"arrowwidth\":1},\"geo\":{\"bgcolor\":\"white\",\"landcolor\":\"#E5ECF6\",\"subunitcolor\":\"white\",\"showland\":true,\"showlakes\":true,\"lakecolor\":\"white\"},\"title\":{\"x\":0.05},\"mapbox\":{\"style\":\"light\"}}},\"title\":{\"text\":\"Actual vs Predicted Values\"},\"xaxis\":{\"title\":{\"text\":\"Actual Values\"}},\"yaxis\":{\"title\":{\"text\":\"Predicted Values\"}},\"showlegend\":true},                        {\"responsive\": true}                    ).then(function(){\n",
       "                            \n",
       "var gd = document.getElementById('a8bca24b-7b06-4ad5-a70f-26fa2cd33c3e');\n",
       "var x = new MutationObserver(function (mutations, observer) {{\n",
       "        var display = window.getComputedStyle(gd).display;\n",
       "        if (!display || display === 'none') {{\n",
       "            console.log([gd, 'removed!']);\n",
       "            Plotly.purge(gd);\n",
       "            observer.disconnect();\n",
       "        }}\n",
       "}});\n",
       "\n",
       "// Listen for the removal of the full notebook cells\n",
       "var notebookContainer = gd.closest('#notebook-container');\n",
       "if (notebookContainer) {{\n",
       "    x.observe(notebookContainer, {childList: true});\n",
       "}}\n",
       "\n",
       "// Listen for the clearing of the current output cell\n",
       "var outputEl = gd.closest('.output');\n",
       "if (outputEl) {{\n",
       "    x.observe(outputEl, {childList: true});\n",
       "}}\n",
       "\n",
       "                        })                };                });            </script>        </div>"
      ]
     },
     "metadata": {},
     "output_type": "display_data"
    }
   ],
   "source": [
    "import pandas as pd\n",
    "import plotly.express as px\n",
    "import numpy as np\n",
    "import plotly.graph_objects as go\n",
    "from sklearn.preprocessing import StandardScaler\n",
    "from sklearn.ensemble import RandomForestRegressor\n",
    "\n",
    "data = pd.read_csv(\"dynamic_pricing.csv\")\n",
    "\n",
    "\n",
    "# Calculate demand_multiplier based on percentile for high and low demand\n",
    "high_demand_percentile = 75\n",
    "low_demand_percentile = 25\n",
    "\n",
    "data['demand_multiplier'] = np.where(data['Number_of_Riders'] > np.percentile(data['Number_of_Riders'], high_demand_percentile),\n",
    "                                     data['Number_of_Riders'] / np.percentile(data['Number_of_Riders'], high_demand_percentile),\n",
    "                                     data['Number_of_Riders'] / np.percentile(data['Number_of_Riders'], low_demand_percentile))\n",
    "\n",
    "# Calculate supply_multiplier based on percentile for high and low supply\n",
    "high_supply_percentile = 75\n",
    "low_supply_percentile = 25\n",
    "\n",
    "data['supply_multiplier'] = np.where(data['Number_of_Drivers'] > np.percentile(data['Number_of_Drivers'], low_supply_percentile),\n",
    "                                     np.percentile(data['Number_of_Drivers'], high_supply_percentile) / data['Number_of_Drivers'],\n",
    "                                     np.percentile(data['Number_of_Drivers'], low_supply_percentile) / data['Number_of_Drivers'])\n",
    "\n",
    "# Define price adjustment factors for high and low demand/supply\n",
    "demand_threshold_high = 1.2  # Higher demand threshold\n",
    "demand_threshold_low = 0.8  # Lower demand threshold\n",
    "supply_threshold_high = 0.8  # Higher supply threshold\n",
    "supply_threshold_low = 1.2  # Lower supply threshold\n",
    "\n",
    "# Calculate adjusted_ride_cost for dynamic pricing\n",
    "data['adjusted_ride_cost'] = data['Historical_Cost_of_Ride'] * (\n",
    "    np.maximum(data['demand_multiplier'], demand_threshold_low) *\n",
    "    np.maximum(data['supply_multiplier'], supply_threshold_high)\n",
    ")\n",
    "\n",
    "\n",
    "# Calculate the profit percentage for each ride\n",
    "data['profit_percentage'] = ((data['adjusted_ride_cost'] - data['Historical_Cost_of_Ride']) / data['Historical_Cost_of_Ride']) * 100\n",
    "# Identify profitable rides where profit percentage is positive\n",
    "profitable_rides = data[data['profit_percentage'] > 0]\n",
    "\n",
    "# Identify loss rides where profit percentage is negative\n",
    "loss_rides = data[data['profit_percentage'] < 0]\n",
    "\n",
    "# Calculate the count of profitable and loss rides\n",
    "profitable_count = len(profitable_rides)\n",
    "loss_count = len(loss_rides)\n",
    "\n",
    "# Create a donut chart to show the distribution of profitable and loss rides\n",
    "labels = ['Profitable Rides', 'Loss Rides']\n",
    "values = [profitable_count, loss_count]\n",
    "\n",
    "def data_preprocessing_pipeline(data):\n",
    "    #Identify numeric and categorical features\n",
    "    numeric_features = data.select_dtypes(include=['float', 'int']).columns\n",
    "    categorical_features = data.select_dtypes(include=['object']).columns\n",
    "\n",
    "    #Handle missing values in numeric features\n",
    "    data[numeric_features] = data[numeric_features].fillna(data[numeric_features].mean())\n",
    "\n",
    "    #Detect and handle outliers in numeric features using IQR\n",
    "    for feature in numeric_features:\n",
    "        Q1 = data[feature].quantile(0.25)\n",
    "        Q3 = data[feature].quantile(0.75)\n",
    "        IQR = Q3 - Q1\n",
    "        lower_bound = Q1 - (1.5 * IQR)\n",
    "        upper_bound = Q3 + (1.5 * IQR)\n",
    "        data[feature] = np.where((data[feature] < lower_bound) | (data[feature] > upper_bound),\n",
    "                                 data[feature].mean(), data[feature])\n",
    "\n",
    "    #Handle missing values in categorical features\n",
    "    data[categorical_features] = data[categorical_features].fillna(data[categorical_features].mode().iloc[0])\n",
    "\n",
    "    return data\n",
    "\n",
    "data[\"Vehicle_Type\"] = data[\"Vehicle_Type\"].map({\"Premium\": 1,\n",
    "                                                 \"Economy\": 0})\n",
    "\n",
    "#splitting data\n",
    "from sklearn.model_selection import train_test_split\n",
    "x = np.array(data[[\"Number_of_Riders\", \n",
    "                   \"Number_of_Drivers\", \n",
    "                   \"Vehicle_Type\", \n",
    "                   \"Expected_Ride_Duration\"]])\n",
    "y = np.array(data[[\"adjusted_ride_cost\"]])\n",
    "\n",
    "x_train, x_test, y_train, y_test = train_test_split(x,\n",
    "                                                    y,\n",
    "                                                    test_size=0.2,\n",
    "                                                    random_state=42)\n",
    "\n",
    "# Reshape y to 1D array\n",
    "y_train = y_train.ravel()\n",
    "y_test = y_test.ravel()\n",
    "\n",
    "# Training a random forest regression model\n",
    "\n",
    "model = RandomForestRegressor()\n",
    "model.fit(x_train, y_train)\n",
    "\n",
    "def get_vehicle_type_numeric(vehicle_type):\n",
    "    vehicle_type_mapping = {\n",
    "        \"Premium\": 1,\n",
    "        \"Economy\": 0\n",
    "    }\n",
    "    vehicle_type_numeric = vehicle_type_mapping.get(vehicle_type)\n",
    "    return vehicle_type_numeric\n",
    "  \n",
    "# Predicting using user input values\n",
    "def predict_price(number_of_riders, number_of_drivers, vehicle_type, Expected_Ride_Duration):\n",
    "    vehicle_type_numeric = get_vehicle_type_numeric(vehicle_type)\n",
    "    if vehicle_type_numeric is None:\n",
    "        raise ValueError(\"Invalid vehicle type\")\n",
    "    \n",
    "    input_data = np.array([[number_of_riders, \n",
    "                            number_of_drivers, \n",
    "                            vehicle_type_numeric, \n",
    "                            Expected_Ride_Duration]])\n",
    "    predicted_price = model.predict(input_data)\n",
    "    return predicted_price\n",
    "\n",
    "# Example prediction using user input values\n",
    "user_number_of_riders = 50\n",
    "user_number_of_drivers = 25\n",
    "user_vehicle_type = \"Economy\"\n",
    "Expected_Ride_Duration = 30\n",
    "predicted_price = predict_price(user_number_of_riders,\n",
    "                                user_number_of_drivers,\n",
    "                                user_vehicle_type,\n",
    "                                Expected_Ride_Duration)\n",
    "print(\"Predicted price:\", predicted_price)\n",
    "\n",
    "# Predict on the test set\n",
    "y_pred = model.predict(x_test)\n",
    "\n",
    "# Create a scatter plot with actual vs predicted values\n",
    "fig = go.Figure()\n",
    "\n",
    "fig.add_trace(go.Scatter(\n",
    "    x=y_test.flatten(),\n",
    "    y=y_pred,\n",
    "    mode='markers',\n",
    "    name='Actual vs Predicted'\n",
    "))\n",
    "\n",
    "# Add a line representing the ideal case\n",
    "fig.add_trace(go.Scatter(\n",
    "    x=[min(y_test.flatten()), max(y_test.flatten())],\n",
    "    y=[min(y_test.flatten()), max(y_test.flatten())],\n",
    "    mode='lines',\n",
    "    name='Ideal',\n",
    "    line=dict(color='red', dash='dash')\n",
    "))\n",
    "\n",
    "fig.update_layout(\n",
    "    title='Actual vs Predicted Values',\n",
    "    xaxis_title='Actual Values',\n",
    "    yaxis_title='Predicted Values',\n",
    "    showlegend=True,\n",
    ")\n",
    "\n",
    "fig.show()"
   ]
  },
  {
   "cell_type": "code",
   "execution_count": null,
   "id": "3234e141-31e0-4b2e-8854-9528ee07b766",
   "metadata": {},
   "outputs": [],
   "source": []
  }
 ],
 "metadata": {
  "kernelspec": {
   "display_name": "Python 3 (ipykernel)",
   "language": "python",
   "name": "python3"
  },
  "language_info": {
   "codemirror_mode": {
    "name": "ipython",
    "version": 3
   },
   "file_extension": ".py",
   "mimetype": "text/x-python",
   "name": "python",
   "nbconvert_exporter": "python",
   "pygments_lexer": "ipython3",
   "version": "3.11.5"
  }
 },
 "nbformat": 4,
 "nbformat_minor": 5
}
