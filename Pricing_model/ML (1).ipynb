{
 "cells": [
  {
   "cell_type": "code",
   "execution_count": 23,
   "id": "5d7aa3bf-761c-4940-b82e-0399e2b662ea",
   "metadata": {
    "tags": []
   },
   "outputs": [
    {
     "name": "stdout",
     "output_type": "stream",
     "text": [
      "Predicted price: [245.69780371]\n"
     ]
    },
    {
     "data": {
      "application/vnd.plotly.v1+json": {
       "config": {
        "plotlyServerURL": "https://plot.ly"
       },
       "data": [
        {
         "mode": "markers",
         "name": "Actual vs Predicted",
         "type": "scatter",
         "x": [
          614.288912211575,
          619.5712719421487,
          694.2814996808976,
          626.1006674490017,
          338.8251924747954,
          1008.681569843489,
          255.03496254417124,
          162.86885815137614,
          698.2195780748161,
          224.76942612862038,
          645.2204741255908,
          305.9820599348604,
          53.74327220728414,
          1629.4190108154107,
          287.49590469717,
          729.4368697135036,
          886.8664638724589,
          456.59491663263407,
          302.6887466045764,
          980.6766230838559,
          1032.9959627344213,
          80.81411700027053,
          251.87576825533526,
          563.6804310854117,
          604.2407113472003,
          936.9204809157162,
          194.1191127746037,
          978.5994111215849,
          425.18624190747926,
          882.7521058916373,
          326.70335246906865,
          239.3902046891728,
          610.1560032102365,
          234.53766777673306,
          1275.101691524247,
          320.81123118097145,
          388.10050617825055,
          231.45519848457957,
          402.68097478158546,
          197.739650120686,
          988.8216130263982,
          1603.6423881210865,
          1087.7333100321705,
          1267.1421645758649,
          1152.1312399910862,
          478.5559800108727,
          890.7887956827417,
          1576.0278829114404,
          381.85215118237585,
          1627.4698265044085,
          974.2152722945849,
          455.59167702975486,
          850.012111745254,
          551.2381435345196,
          537.4885299335115,
          359.7081117943463,
          328.84015867026363,
          1588.4298556938925,
          1677.4102458748239,
          630.0223688711988,
          961.7745085170942,
          1048.5335744440677,
          655.7098846418044,
          814.1434262699445,
          1362.5033016643506,
          408.3621678357011,
          415.25710035208516,
          289.6137516903042,
          868.7971285946797,
          200.60572418730754,
          541.9713979967344,
          287.8699563445968,
          534.2370389885843,
          1188.4840897569661,
          364.749074636435,
          511.40982488215275,
          327.51910669378384,
          2589.3108788505524,
          1467.1269198237885,
          1074.037818618396,
          615.7306566898939,
          818.9471855560543,
          2783.6811375735433,
          173.34355137114665,
          593.230091367615,
          558.1451943449424,
          520.4605807220448,
          52.75247009136792,
          939.2587430428053,
          989.8988457611639,
          682.1763357039314,
          159.7662410865569,
          583.8091980919631,
          1077.5190382073047,
          464.68041315379577,
          1128.216701883742,
          1297.7348874505192,
          523.8022066426988,
          393.5496800050219,
          1190.1295913638617,
          356.1438919367487,
          420.1689021737655,
          361.16983283428436,
          506.92705828194045,
          839.6445463868426,
          483.08999348865666,
          741.5776878423202,
          494.70521414300595,
          755.0415928216725,
          158.17431074893037,
          551.3934733911599,
          325.4160129798869,
          1558.41783767507,
          232.52613102851748,
          40.99340425482605,
          73.815119640662,
          319.7494654795033,
          370.11488315746317,
          1487.2543053109744,
          168.01475871025698,
          803.0738771911136,
          357.3580663321614,
          277.4920173466365,
          242.03504154690663,
          1050.9213345108287,
          186.73590074103828,
          604.739497065753,
          584.3820409570446,
          753.4639845427931,
          182.13274380620683,
          691.6916123858213,
          780.9145039518611,
          1681.8363092459815,
          124.5678973606918,
          891.835620475924,
          560.440488884175,
          565.1938387126878,
          308.47313565290716,
          1663.7583766492608,
          853.0824164749882,
          799.2908940827497,
          32.354312522312306,
          930.0211411163025,
          1893.4259284592706,
          797.9888463433637,
          1073.6182196185569,
          873.352468251193,
          484.4484700942458,
          448.9427469990342,
          394.40755467930296,
          715.674987640115,
          2125.8740955176313,
          309.6726242107452,
          248.12369302054427,
          447.56488006279307,
          115.22721106530331,
          865.8403406114085,
          1511.6299533008407,
          341.0241029783227,
          37.77099218671988,
          941.8882124313494,
          1449.025020433162,
          1142.3435058739894,
          642.3294933457973,
          135.15247471472526,
          1475.1222582618138,
          757.1435270271558,
          1051.117783334278,
          1558.5236268093047,
          873.8011303443627,
          450.77447417262493,
          567.5318300844349,
          579.2402319134828,
          427.95290843121495,
          204.20807438797758,
          420.04141416305896,
          622.0378047324193,
          324.873747203077,
          84.02224207338016,
          333.22868671631346,
          1254.9802256182686,
          191.12530561187828,
          345.90279857202637,
          1629.1678959700464,
          996.2844378705316,
          601.4079342960596,
          228.9355531701539,
          188.1097994806941,
          1157.5457144081424,
          120.820662212846,
          153.41580003475815,
          869.8300131348389,
          1205.5081510660357,
          789.2254052469862,
          906.4014526534187,
          1015.4711949160716,
          407.1660314055159,
          862.1180434539936,
          729.767726256892,
          230.40221426981705
         ],
         "y": [
          516.6644693592398,
          822.8130003340683,
          872.9765353633853,
          736.2563291833573,
          243.12016566313042,
          1105.8053666174737,
          317.8444747454319,
          212.7278659943231,
          513.4381694517255,
          193.45649846548358,
          640.6766914580185,
          422.1600145687787,
          112.95074082457792,
          1532.0157911395575,
          376.6535616147219,
          810.0279227105159,
          1142.007568552893,
          409.04510279806095,
          436.8297167875537,
          698.5689810204378,
          997.3648194956577,
          114.46602713842252,
          247.19647288103326,
          585.1387126895825,
          597.1649423924418,
          1371.3976571772707,
          225.2088862737151,
          908.0137625579374,
          466.93955930284125,
          1178.0830280242972,
          559.5847356622485,
          193.31667953565943,
          699.7691484242378,
          304.593463381366,
          1067.149448534426,
          549.9729926954365,
          394.0629301392066,
          258.6061741139115,
          386.1388994129773,
          293.35784570842134,
          988.712328082776,
          1271.47755140787,
          947.2253242326749,
          1472.2174068799636,
          1359.1426535917892,
          496.86312062718963,
          796.4318169058913,
          1607.6072509796193,
          494.1224725379655,
          1251.040928208773,
          1034.612061379267,
          407.64532080638367,
          926.7480960106167,
          507.9024624749343,
          466.68743144757076,
          405.45462643526423,
          333.26803138577276,
          1447.4867258897086,
          1345.4043459436973,
          598.1956452923703,
          1132.4052257059725,
          870.6608147635637,
          809.2065633083314,
          960.2116846567033,
          1781.1619796293576,
          622.4878738811526,
          347.258454241392,
          328.78248577615267,
          761.1517595273798,
          232.57657466686996,
          494.2499213095027,
          159.4784945311779,
          759.5325522130383,
          1401.738173730186,
          322.1494466626095,
          509.7152613170718,
          288.2301082635905,
          2199.808404886685,
          1460.9349404171494,
          964.3869475544254,
          761.2655491897063,
          701.1909749609804,
          2116.660470908788,
          146.3511706747022,
          703.1942901673355,
          782.9129967065944,
          447.9688056628506,
          71.309390574897,
          790.780450177959,
          1253.9688019319847,
          853.9078534569015,
          214.36313738028147,
          541.307650705389,
          1260.1516843487234,
          501.00574713888244,
          1332.7027431394977,
          782.8476308941921,
          401.51700837501863,
          617.6206157888017,
          1132.491688597474,
          318.9334482617828,
          465.20845563901895,
          313.59260099447584,
          517.1296891337043,
          876.7330437722485,
          551.9411193131951,
          807.3833980681812,
          629.9212650887484,
          743.0043547244702,
          204.60524954881265,
          479.4949852420564,
          452.0309452276885,
          1517.6748873037277,
          201.65403636331612,
          58.25749897980427,
          103.23256554465063,
          277.4524231561894,
          560.1991416636985,
          1412.734028460109,
          299.1462921061626,
          608.7646809038673,
          468.29337469602746,
          376.2763499396722,
          279.59745516173206,
          1162.0681883688198,
          186.13610598441167,
          694.0707465304351,
          681.5815897713167,
          565.981248993606,
          264.8838716337943,
          938.3441100228204,
          668.9665490197465,
          1635.890226598779,
          179.97823875202096,
          780.4517478781491,
          623.2373460481069,
          678.3309391408544,
          301.63665683939433,
          2522.5378618369896,
          801.2252324377185,
          879.1240865118066,
          61.140448591145145,
          957.6162068435332,
          1176.2988378268763,
          791.7907652052806,
          933.805639532571,
          1210.729500272225,
          437.45973803284824,
          503.435983994305,
          464.8860174996714,
          578.9156745657707,
          1925.9193604045254,
          351.85433413059,
          355.4616687940354,
          432.5508563649418,
          203.60836059103858,
          719.6567171695433,
          1168.790840744962,
          517.8297529650802,
          40.418586627565276,
          1098.223997090052,
          1031.931283840711,
          1374.5125412349705,
          738.0818350221432,
          174.78493240505966,
          1329.2004641933868,
          840.0306417144893,
          893.0269328340539,
          1139.2297140098767,
          965.2735336484137,
          456.4432612471329,
          668.5665410291792,
          664.0265355478193,
          924.5318242651233,
          293.31850394360674,
          350.95127550972035,
          628.5457115188494,
          270.3890575424393,
          97.59400419947534,
          398.21007358101946,
          1156.9987781419081,
          223.67853701275618,
          469.24399848525553,
          1708.423311053368,
          1045.6033475938289,
          876.2912570963268,
          245.69459868614817,
          160.42533491128063,
          1233.9718697992962,
          201.36280558049296,
          154.1786722869817,
          944.9313342767139,
          1138.6760615071134,
          733.6059134176519,
          1151.375446100072,
          1386.2757413741317,
          424.6946772078405,
          774.831428331116,
          886.2220402751839,
          288.53624079629225
         ]
        },
        {
         "line": {
          "color": "red",
          "dash": "dash"
         },
         "mode": "lines",
         "name": "Ideal",
         "type": "scatter",
         "x": [
          32.354312522312306,
          2783.6811375735433
         ],
         "y": [
          32.354312522312306,
          2783.6811375735433
         ]
        }
       ],
       "layout": {
        "autosize": true,
        "showlegend": true,
        "template": {
         "data": {
          "bar": [
           {
            "error_x": {
             "color": "#2a3f5f"
            },
            "error_y": {
             "color": "#2a3f5f"
            },
            "marker": {
             "line": {
              "color": "#E5ECF6",
              "width": 0.5
             },
             "pattern": {
              "fillmode": "overlay",
              "size": 10,
              "solidity": 0.2
             }
            },
            "type": "bar"
           }
          ],
          "barpolar": [
           {
            "marker": {
             "line": {
              "color": "#E5ECF6",
              "width": 0.5
             },
             "pattern": {
              "fillmode": "overlay",
              "size": 10,
              "solidity": 0.2
             }
            },
            "type": "barpolar"
           }
          ],
          "carpet": [
           {
            "aaxis": {
             "endlinecolor": "#2a3f5f",
             "gridcolor": "white",
             "linecolor": "white",
             "minorgridcolor": "white",
             "startlinecolor": "#2a3f5f"
            },
            "baxis": {
             "endlinecolor": "#2a3f5f",
             "gridcolor": "white",
             "linecolor": "white",
             "minorgridcolor": "white",
             "startlinecolor": "#2a3f5f"
            },
            "type": "carpet"
           }
          ],
          "choropleth": [
           {
            "colorbar": {
             "outlinewidth": 0,
             "ticks": ""
            },
            "type": "choropleth"
           }
          ],
          "contour": [
           {
            "colorbar": {
             "outlinewidth": 0,
             "ticks": ""
            },
            "colorscale": [
             [
              0,
              "#0d0887"
             ],
             [
              0.1111111111111111,
              "#46039f"
             ],
             [
              0.2222222222222222,
              "#7201a8"
             ],
             [
              0.3333333333333333,
              "#9c179e"
             ],
             [
              0.4444444444444444,
              "#bd3786"
             ],
             [
              0.5555555555555556,
              "#d8576b"
             ],
             [
              0.6666666666666666,
              "#ed7953"
             ],
             [
              0.7777777777777778,
              "#fb9f3a"
             ],
             [
              0.8888888888888888,
              "#fdca26"
             ],
             [
              1,
              "#f0f921"
             ]
            ],
            "type": "contour"
           }
          ],
          "contourcarpet": [
           {
            "colorbar": {
             "outlinewidth": 0,
             "ticks": ""
            },
            "type": "contourcarpet"
           }
          ],
          "heatmap": [
           {
            "colorbar": {
             "outlinewidth": 0,
             "ticks": ""
            },
            "colorscale": [
             [
              0,
              "#0d0887"
             ],
             [
              0.1111111111111111,
              "#46039f"
             ],
             [
              0.2222222222222222,
              "#7201a8"
             ],
             [
              0.3333333333333333,
              "#9c179e"
             ],
             [
              0.4444444444444444,
              "#bd3786"
             ],
             [
              0.5555555555555556,
              "#d8576b"
             ],
             [
              0.6666666666666666,
              "#ed7953"
             ],
             [
              0.7777777777777778,
              "#fb9f3a"
             ],
             [
              0.8888888888888888,
              "#fdca26"
             ],
             [
              1,
              "#f0f921"
             ]
            ],
            "type": "heatmap"
           }
          ],
          "heatmapgl": [
           {
            "colorbar": {
             "outlinewidth": 0,
             "ticks": ""
            },
            "colorscale": [
             [
              0,
              "#0d0887"
             ],
             [
              0.1111111111111111,
              "#46039f"
             ],
             [
              0.2222222222222222,
              "#7201a8"
             ],
             [
              0.3333333333333333,
              "#9c179e"
             ],
             [
              0.4444444444444444,
              "#bd3786"
             ],
             [
              0.5555555555555556,
              "#d8576b"
             ],
             [
              0.6666666666666666,
              "#ed7953"
             ],
             [
              0.7777777777777778,
              "#fb9f3a"
             ],
             [
              0.8888888888888888,
              "#fdca26"
             ],
             [
              1,
              "#f0f921"
             ]
            ],
            "type": "heatmapgl"
           }
          ],
          "histogram": [
           {
            "marker": {
             "pattern": {
              "fillmode": "overlay",
              "size": 10,
              "solidity": 0.2
             }
            },
            "type": "histogram"
           }
          ],
          "histogram2d": [
           {
            "colorbar": {
             "outlinewidth": 0,
             "ticks": ""
            },
            "colorscale": [
             [
              0,
              "#0d0887"
             ],
             [
              0.1111111111111111,
              "#46039f"
             ],
             [
              0.2222222222222222,
              "#7201a8"
             ],
             [
              0.3333333333333333,
              "#9c179e"
             ],
             [
              0.4444444444444444,
              "#bd3786"
             ],
             [
              0.5555555555555556,
              "#d8576b"
             ],
             [
              0.6666666666666666,
              "#ed7953"
             ],
             [
              0.7777777777777778,
              "#fb9f3a"
             ],
             [
              0.8888888888888888,
              "#fdca26"
             ],
             [
              1,
              "#f0f921"
             ]
            ],
            "type": "histogram2d"
           }
          ],
          "histogram2dcontour": [
           {
            "colorbar": {
             "outlinewidth": 0,
             "ticks": ""
            },
            "colorscale": [
             [
              0,
              "#0d0887"
             ],
             [
              0.1111111111111111,
              "#46039f"
             ],
             [
              0.2222222222222222,
              "#7201a8"
             ],
             [
              0.3333333333333333,
              "#9c179e"
             ],
             [
              0.4444444444444444,
              "#bd3786"
             ],
             [
              0.5555555555555556,
              "#d8576b"
             ],
             [
              0.6666666666666666,
              "#ed7953"
             ],
             [
              0.7777777777777778,
              "#fb9f3a"
             ],
             [
              0.8888888888888888,
              "#fdca26"
             ],
             [
              1,
              "#f0f921"
             ]
            ],
            "type": "histogram2dcontour"
           }
          ],
          "mesh3d": [
           {
            "colorbar": {
             "outlinewidth": 0,
             "ticks": ""
            },
            "type": "mesh3d"
           }
          ],
          "parcoords": [
           {
            "line": {
             "colorbar": {
              "outlinewidth": 0,
              "ticks": ""
             }
            },
            "type": "parcoords"
           }
          ],
          "pie": [
           {
            "automargin": true,
            "type": "pie"
           }
          ],
          "scatter": [
           {
            "fillpattern": {
             "fillmode": "overlay",
             "size": 10,
             "solidity": 0.2
            },
            "type": "scatter"
           }
          ],
          "scatter3d": [
           {
            "line": {
             "colorbar": {
              "outlinewidth": 0,
              "ticks": ""
             }
            },
            "marker": {
             "colorbar": {
              "outlinewidth": 0,
              "ticks": ""
             }
            },
            "type": "scatter3d"
           }
          ],
          "scattercarpet": [
           {
            "marker": {
             "colorbar": {
              "outlinewidth": 0,
              "ticks": ""
             }
            },
            "type": "scattercarpet"
           }
          ],
          "scattergeo": [
           {
            "marker": {
             "colorbar": {
              "outlinewidth": 0,
              "ticks": ""
             }
            },
            "type": "scattergeo"
           }
          ],
          "scattergl": [
           {
            "marker": {
             "colorbar": {
              "outlinewidth": 0,
              "ticks": ""
             }
            },
            "type": "scattergl"
           }
          ],
          "scattermapbox": [
           {
            "marker": {
             "colorbar": {
              "outlinewidth": 0,
              "ticks": ""
             }
            },
            "type": "scattermapbox"
           }
          ],
          "scatterpolar": [
           {
            "marker": {
             "colorbar": {
              "outlinewidth": 0,
              "ticks": ""
             }
            },
            "type": "scatterpolar"
           }
          ],
          "scatterpolargl": [
           {
            "marker": {
             "colorbar": {
              "outlinewidth": 0,
              "ticks": ""
             }
            },
            "type": "scatterpolargl"
           }
          ],
          "scatterternary": [
           {
            "marker": {
             "colorbar": {
              "outlinewidth": 0,
              "ticks": ""
             }
            },
            "type": "scatterternary"
           }
          ],
          "surface": [
           {
            "colorbar": {
             "outlinewidth": 0,
             "ticks": ""
            },
            "colorscale": [
             [
              0,
              "#0d0887"
             ],
             [
              0.1111111111111111,
              "#46039f"
             ],
             [
              0.2222222222222222,
              "#7201a8"
             ],
             [
              0.3333333333333333,
              "#9c179e"
             ],
             [
              0.4444444444444444,
              "#bd3786"
             ],
             [
              0.5555555555555556,
              "#d8576b"
             ],
             [
              0.6666666666666666,
              "#ed7953"
             ],
             [
              0.7777777777777778,
              "#fb9f3a"
             ],
             [
              0.8888888888888888,
              "#fdca26"
             ],
             [
              1,
              "#f0f921"
             ]
            ],
            "type": "surface"
           }
          ],
          "table": [
           {
            "cells": {
             "fill": {
              "color": "#EBF0F8"
             },
             "line": {
              "color": "white"
             }
            },
            "header": {
             "fill": {
              "color": "#C8D4E3"
             },
             "line": {
              "color": "white"
             }
            },
            "type": "table"
           }
          ]
         },
         "layout": {
          "annotationdefaults": {
           "arrowcolor": "#2a3f5f",
           "arrowhead": 0,
           "arrowwidth": 1
          },
          "autotypenumbers": "strict",
          "coloraxis": {
           "colorbar": {
            "outlinewidth": 0,
            "ticks": ""
           }
          },
          "colorscale": {
           "diverging": [
            [
             0,
             "#8e0152"
            ],
            [
             0.1,
             "#c51b7d"
            ],
            [
             0.2,
             "#de77ae"
            ],
            [
             0.3,
             "#f1b6da"
            ],
            [
             0.4,
             "#fde0ef"
            ],
            [
             0.5,
             "#f7f7f7"
            ],
            [
             0.6,
             "#e6f5d0"
            ],
            [
             0.7,
             "#b8e186"
            ],
            [
             0.8,
             "#7fbc41"
            ],
            [
             0.9,
             "#4d9221"
            ],
            [
             1,
             "#276419"
            ]
           ],
           "sequential": [
            [
             0,
             "#0d0887"
            ],
            [
             0.1111111111111111,
             "#46039f"
            ],
            [
             0.2222222222222222,
             "#7201a8"
            ],
            [
             0.3333333333333333,
             "#9c179e"
            ],
            [
             0.4444444444444444,
             "#bd3786"
            ],
            [
             0.5555555555555556,
             "#d8576b"
            ],
            [
             0.6666666666666666,
             "#ed7953"
            ],
            [
             0.7777777777777778,
             "#fb9f3a"
            ],
            [
             0.8888888888888888,
             "#fdca26"
            ],
            [
             1,
             "#f0f921"
            ]
           ],
           "sequentialminus": [
            [
             0,
             "#0d0887"
            ],
            [
             0.1111111111111111,
             "#46039f"
            ],
            [
             0.2222222222222222,
             "#7201a8"
            ],
            [
             0.3333333333333333,
             "#9c179e"
            ],
            [
             0.4444444444444444,
             "#bd3786"
            ],
            [
             0.5555555555555556,
             "#d8576b"
            ],
            [
             0.6666666666666666,
             "#ed7953"
            ],
            [
             0.7777777777777778,
             "#fb9f3a"
            ],
            [
             0.8888888888888888,
             "#fdca26"
            ],
            [
             1,
             "#f0f921"
            ]
           ]
          },
          "colorway": [
           "#636efa",
           "#EF553B",
           "#00cc96",
           "#ab63fa",
           "#FFA15A",
           "#19d3f3",
           "#FF6692",
           "#B6E880",
           "#FF97FF",
           "#FECB52"
          ],
          "font": {
           "color": "#2a3f5f"
          },
          "geo": {
           "bgcolor": "white",
           "lakecolor": "white",
           "landcolor": "#E5ECF6",
           "showlakes": true,
           "showland": true,
           "subunitcolor": "white"
          },
          "hoverlabel": {
           "align": "left"
          },
          "hovermode": "closest",
          "mapbox": {
           "style": "light"
          },
          "paper_bgcolor": "white",
          "plot_bgcolor": "#E5ECF6",
          "polar": {
           "angularaxis": {
            "gridcolor": "white",
            "linecolor": "white",
            "ticks": ""
           },
           "bgcolor": "#E5ECF6",
           "radialaxis": {
            "gridcolor": "white",
            "linecolor": "white",
            "ticks": ""
           }
          },
          "scene": {
           "xaxis": {
            "backgroundcolor": "#E5ECF6",
            "gridcolor": "white",
            "gridwidth": 2,
            "linecolor": "white",
            "showbackground": true,
            "ticks": "",
            "zerolinecolor": "white"
           },
           "yaxis": {
            "backgroundcolor": "#E5ECF6",
            "gridcolor": "white",
            "gridwidth": 2,
            "linecolor": "white",
            "showbackground": true,
            "ticks": "",
            "zerolinecolor": "white"
           },
           "zaxis": {
            "backgroundcolor": "#E5ECF6",
            "gridcolor": "white",
            "gridwidth": 2,
            "linecolor": "white",
            "showbackground": true,
            "ticks": "",
            "zerolinecolor": "white"
           }
          },
          "shapedefaults": {
           "line": {
            "color": "#2a3f5f"
           }
          },
          "ternary": {
           "aaxis": {
            "gridcolor": "white",
            "linecolor": "white",
            "ticks": ""
           },
           "baxis": {
            "gridcolor": "white",
            "linecolor": "white",
            "ticks": ""
           },
           "bgcolor": "#E5ECF6",
           "caxis": {
            "gridcolor": "white",
            "linecolor": "white",
            "ticks": ""
           }
          },
          "title": {
           "x": 0.05
          },
          "xaxis": {
           "automargin": true,
           "gridcolor": "white",
           "linecolor": "white",
           "ticks": "",
           "title": {
            "standoff": 15
           },
           "zerolinecolor": "white",
           "zerolinewidth": 2
          },
          "yaxis": {
           "automargin": true,
           "gridcolor": "white",
           "linecolor": "white",
           "ticks": "",
           "title": {
            "standoff": 15
           },
           "zerolinecolor": "white",
           "zerolinewidth": 2
          }
         }
        },
        "title": {
         "text": "Actual vs Predicted Values"
        },
        "xaxis": {
         "autorange": true,
         "range": [
          -145.6372255018353,
          2961.672675597691
         ],
         "title": {
          "text": "Actual Values"
         },
         "type": "linear"
        },
        "yaxis": {
         "autorange": true,
         "range": [
          -180.60256676618653,
          2939.6960693808974
         ],
         "title": {
          "text": "Predicted Values"
         },
         "type": "linear"
        }
       }
      },
      "image/png": "[encoded data removed]",
      "text/html": [
       "<div>                            <div id=\"e8cd47a9-2a56-47b2-8a51-26e1404eca09\" class=\"plotly-graph-div\" style=\"height:525px; width:100%;\"></div>            <script type=\"text/javascript\">                require([\"plotly\"], function(Plotly) {                    window.PLOTLYENV=window.PLOTLYENV || {};                                    if (document.getElementById(\"e8cd47a9-2a56-47b2-8a51-26e1404eca09\")) {                    Plotly.newPlot(                        \"e8cd47a9-2a56-47b2-8a51-26e1404eca09\",                        [{\"mode\":\"markers\",\"name\":\"Actual vs Predicted\",\"x\":[614.288912211575,619.5712719421487,694.2814996808976,626.1006674490017,338.8251924747954,1008.681569843489,255.03496254417124,162.86885815137614,698.2195780748161,224.76942612862038,645.2204741255908,305.9820599348604,53.74327220728414,1629.4190108154107,287.49590469717,729.4368697135036,886.8664638724589,456.59491663263407,302.6887466045764,980.6766230838559,1032.9959627344213,80.81411700027053,251.87576825533526,563.6804310854117,604.2407113472003,936.9204809157162,194.1191127746037,978.5994111215849,425.18624190747926,882.7521058916373,326.70335246906865,239.3902046891728,610.1560032102365,234.53766777673306,1275.101691524247,320.81123118097145,388.10050617825055,231.45519848457957,402.68097478158546,197.739650120686,988.8216130263982,1603.6423881210865,1087.7333100321705,1267.1421645758649,1152.1312399910862,478.5559800108727,890.7887956827417,1576.0278829114404,381.85215118237585,1627.4698265044085,974.2152722945849,455.59167702975486,850.012111745254,551.2381435345196,537.4885299335115,359.7081117943463,328.84015867026363,1588.4298556938925,1677.4102458748239,630.0223688711988,961.7745085170942,1048.5335744440677,655.7098846418044,814.1434262699445,1362.5033016643506,408.3621678357011,415.25710035208516,289.6137516903042,868.7971285946797,200.60572418730754,541.9713979967344,287.8699563445968,534.2370389885843,1188.4840897569661,364.749074636435,511.40982488215275,327.51910669378384,2589.3108788505524,1467.1269198237885,1074.037818618396,615.7306566898939,818.9471855560543,2783.6811375735433,173.34355137114665,593.230091367615,558.1451943449424,520.4605807220448,52.75247009136792,939.2587430428053,989.8988457611639,682.1763357039314,159.7662410865569,583.8091980919631,1077.5190382073047,464.68041315379577,1128.216701883742,1297.7348874505192,523.8022066426988,393.5496800050219,1190.1295913638617,356.1438919367487,420.1689021737655,361.16983283428436,506.92705828194045,839.6445463868426,483.08999348865666,741.5776878423202,494.70521414300595,755.0415928216725,158.17431074893037,551.3934733911599,325.4160129798869,1558.41783767507,232.52613102851748,40.99340425482605,73.815119640662,319.7494654795033,370.11488315746317,1487.2543053109744,168.01475871025698,803.0738771911136,357.3580663321614,277.4920173466365,242.03504154690663,1050.9213345108287,186.73590074103828,604.739497065753,584.3820409570446,753.4639845427931,182.13274380620683,691.6916123858213,780.9145039518611,1681.8363092459815,124.5678973606918,891.835620475924,560.440488884175,565.1938387126878,308.47313565290716,1663.7583766492608,853.0824164749882,799.2908940827497,32.354312522312306,930.0211411163025,1893.4259284592706,797.9888463433637,1073.6182196185569,873.352468251193,484.4484700942458,448.9427469990342,394.40755467930296,715.674987640115,2125.8740955176313,309.6726242107452,248.12369302054427,447.56488006279307,115.22721106530331,865.8403406114085,1511.6299533008407,341.0241029783227,37.77099218671988,941.8882124313494,1449.025020433162,1142.3435058739894,642.3294933457973,135.15247471472526,1475.1222582618138,757.1435270271558,1051.117783334278,1558.5236268093047,873.8011303443627,450.77447417262493,567.5318300844349,579.2402319134828,427.95290843121495,204.20807438797758,420.04141416305896,622.0378047324193,324.873747203077,84.02224207338016,333.22868671631346,1254.9802256182686,191.12530561187828,345.90279857202637,1629.1678959700464,996.2844378705316,601.4079342960596,228.9355531701539,188.1097994806941,1157.5457144081424,120.820662212846,153.41580003475815,869.8300131348389,1205.5081510660357,789.2254052469862,906.4014526534187,1015.4711949160716,407.1660314055159,862.1180434539936,729.767726256892,230.40221426981705],\"y\":[516.6644693592398,822.8130003340683,872.9765353633853,736.2563291833573,243.12016566313042,1105.8053666174737,317.8444747454319,212.7278659943231,513.4381694517255,193.45649846548358,640.6766914580185,422.1600145687787,112.95074082457792,1532.0157911395575,376.6535616147219,810.0279227105159,1142.007568552893,409.04510279806095,436.8297167875537,698.5689810204378,997.3648194956577,114.46602713842252,247.19647288103326,585.1387126895825,597.1649423924418,1371.3976571772707,225.2088862737151,908.0137625579374,466.93955930284125,1178.0830280242972,559.5847356622485,193.31667953565943,699.7691484242378,304.593463381366,1067.149448534426,549.9729926954365,394.0629301392066,258.6061741139115,386.1388994129773,293.35784570842134,988.712328082776,1271.47755140787,947.2253242326749,1472.2174068799636,1359.1426535917892,496.86312062718963,796.4318169058913,1607.6072509796193,494.1224725379655,1251.040928208773,1034.612061379267,407.64532080638367,926.7480960106167,507.9024624749343,466.68743144757076,405.45462643526423,333.26803138577276,1447.4867258897086,1345.4043459436973,598.1956452923703,1132.4052257059725,870.6608147635637,809.2065633083314,960.2116846567033,1781.1619796293576,622.4878738811526,347.258454241392,328.78248577615267,761.1517595273798,232.57657466686996,494.2499213095027,159.4784945311779,759.5325522130383,1401.738173730186,322.1494466626095,509.7152613170718,288.2301082635905,2199.808404886685,1460.9349404171494,964.3869475544254,761.2655491897063,701.1909749609804,2116.660470908788,146.3511706747022,703.1942901673355,782.9129967065944,447.9688056628506,71.309390574897,790.780450177959,1253.9688019319847,853.9078534569015,214.36313738028147,541.307650705389,1260.1516843487234,501.00574713888244,1332.7027431394977,782.8476308941921,401.51700837501863,617.6206157888017,1132.491688597474,318.9334482617828,465.20845563901895,313.59260099447584,517.1296891337043,876.7330437722485,551.9411193131951,807.3833980681812,629.9212650887484,743.0043547244702,204.60524954881265,479.4949852420564,452.0309452276885,1517.6748873037277,201.65403636331612,58.25749897980427,103.23256554465063,277.4524231561894,560.1991416636985,1412.734028460109,299.1462921061626,608.7646809038673,468.29337469602746,376.2763499396722,279.59745516173206,1162.0681883688198,186.13610598441167,694.0707465304351,681.5815897713167,565.981248993606,264.8838716337943,938.3441100228204,668.9665490197465,1635.890226598779,179.97823875202096,780.4517478781491,623.2373460481069,678.3309391408544,301.63665683939433,2522.5378618369896,801.2252324377185,879.1240865118066,61.140448591145145,957.6162068435332,1176.2988378268763,791.7907652052806,933.805639532571,1210.729500272225,437.45973803284824,503.435983994305,464.8860174996714,578.9156745657707,1925.9193604045254,351.85433413059,355.4616687940354,432.5508563649418,203.60836059103858,719.6567171695433,1168.790840744962,517.8297529650802,40.418586627565276,1098.223997090052,1031.931283840711,1374.5125412349705,738.0818350221432,174.78493240505966,1329.2004641933868,840.0306417144893,893.0269328340539,1139.2297140098767,965.2735336484137,456.4432612471329,668.5665410291792,664.0265355478193,924.5318242651233,293.31850394360674,350.95127550972035,628.5457115188494,270.3890575424393,97.59400419947534,398.21007358101946,1156.9987781419081,223.67853701275618,469.24399848525553,1708.423311053368,1045.6033475938289,876.2912570963268,245.69459868614817,160.42533491128063,1233.9718697992962,201.36280558049296,154.1786722869817,944.9313342767139,1138.6760615071134,733.6059134176519,1151.375446100072,1386.2757413741317,424.6946772078405,774.831428331116,886.2220402751839,288.53624079629225],\"type\":\"scatter\"},{\"line\":{\"color\":\"red\",\"dash\":\"dash\"},\"mode\":\"lines\",\"name\":\"Ideal\",\"x\":[32.354312522312306,2783.6811375735433],\"y\":[32.354312522312306,2783.6811375735433],\"type\":\"scatter\"}],                        {\"template\":{\"data\":{\"histogram2dcontour\":[{\"type\":\"histogram2dcontour\",\"colorbar\":{\"outlinewidth\":0,\"ticks\":\"\"},\"colorscale\":[[0.0,\"#0d0887\"],[0.1111111111111111,\"#46039f\"],[0.2222222222222222,\"#7201a8\"],[0.3333333333333333,\"#9c179e\"],[0.4444444444444444,\"#bd3786\"],[0.5555555555555556,\"#d8576b\"],[0.6666666666666666,\"#ed7953\"],[0.7777777777777778,\"#fb9f3a\"],[0.8888888888888888,\"#fdca26\"],[1.0,\"#f0f921\"]]}],\"choropleth\":[{\"type\":\"choropleth\",\"colorbar\":{\"outlinewidth\":0,\"ticks\":\"\"}}],\"histogram2d\":[{\"type\":\"histogram2d\",\"colorbar\":{\"outlinewidth\":0,\"ticks\":\"\"},\"colorscale\":[[0.0,\"#0d0887\"],[0.1111111111111111,\"#46039f\"],[0.2222222222222222,\"#7201a8\"],[0.3333333333333333,\"#9c179e\"],[0.4444444444444444,\"#bd3786\"],[0.5555555555555556,\"#d8576b\"],[0.6666666666666666,\"#ed7953\"],[0.7777777777777778,\"#fb9f3a\"],[0.8888888888888888,\"#fdca26\"],[1.0,\"#f0f921\"]]}],\"heatmap\":[{\"type\":\"heatmap\",\"colorbar\":{\"outlinewidth\":0,\"ticks\":\"\"},\"colorscale\":[[0.0,\"#0d0887\"],[0.1111111111111111,\"#46039f\"],[0.2222222222222222,\"#7201a8\"],[0.3333333333333333,\"#9c179e\"],[0.4444444444444444,\"#bd3786\"],[0.5555555555555556,\"#d8576b\"],[0.6666666666666666,\"#ed7953\"],[0.7777777777777778,\"#fb9f3a\"],[0.8888888888888888,\"#fdca26\"],[1.0,\"#f0f921\"]]}],\"heatmapgl\":[{\"type\":\"heatmapgl\",\"colorbar\":{\"outlinewidth\":0,\"ticks\":\"\"},\"colorscale\":[[0.0,\"#0d0887\"],[0.1111111111111111,\"#46039f\"],[0.2222222222222222,\"#7201a8\"],[0.3333333333333333,\"#9c179e\"],[0.4444444444444444,\"#bd3786\"],[0.5555555555555556,\"#d8576b\"],[0.6666666666666666,\"#ed7953\"],[0.7777777777777778,\"#fb9f3a\"],[0.8888888888888888,\"#fdca26\"],[1.0,\"#f0f921\"]]}],\"contourcarpet\":[{\"type\":\"contourcarpet\",\"colorbar\":{\"outlinewidth\":0,\"ticks\":\"\"}}],\"contour\":[{\"type\":\"contour\",\"colorbar\":{\"outlinewidth\":0,\"ticks\":\"\"},\"colorscale\":[[0.0,\"#0d0887\"],[0.1111111111111111,\"#46039f\"],[0.2222222222222222,\"#7201a8\"],[0.3333333333333333,\"#9c179e\"],[0.4444444444444444,\"#bd3786\"],[0.5555555555555556,\"#d8576b\"],[0.6666666666666666,\"#ed7953\"],[0.7777777777777778,\"#fb9f3a\"],[0.8888888888888888,\"#fdca26\"],[1.0,\"#f0f921\"]]}],\"surface\":[{\"type\":\"surface\",\"colorbar\":{\"outlinewidth\":0,\"ticks\":\"\"},\"colorscale\":[[0.0,\"#0d0887\"],[0.1111111111111111,\"#46039f\"],[0.2222222222222222,\"#7201a8\"],[0.3333333333333333,\"#9c179e\"],[0.4444444444444444,\"#bd3786\"],[0.5555555555555556,\"#d8576b\"],[0.6666666666666666,\"#ed7953\"],[0.7777777777777778,\"#fb9f3a\"],[0.8888888888888888,\"#fdca26\"],[1.0,\"#f0f921\"]]}],\"mesh3d\":[{\"type\":\"mesh3d\",\"colorbar\":{\"outlinewidth\":0,\"ticks\":\"\"}}],\"scatter\":[{\"fillpattern\":{\"fillmode\":\"overlay\",\"size\":10,\"solidity\":0.2},\"type\":\"scatter\"}],\"parcoords\":[{\"type\":\"parcoords\",\"line\":{\"colorbar\":{\"outlinewidth\":0,\"ticks\":\"\"}}}],\"scatterpolargl\":[{\"type\":\"scatterpolargl\",\"marker\":{\"colorbar\":{\"outlinewidth\":0,\"ticks\":\"\"}}}],\"bar\":[{\"error_x\":{\"color\":\"#2a3f5f\"},\"error_y\":{\"color\":\"#2a3f5f\"},\"marker\":{\"line\":{\"color\":\"#E5ECF6\",\"width\":0.5},\"pattern\":{\"fillmode\":\"overlay\",\"size\":10,\"solidity\":0.2}},\"type\":\"bar\"}],\"scattergeo\":[{\"type\":\"scattergeo\",\"marker\":{\"colorbar\":{\"outlinewidth\":0,\"ticks\":\"\"}}}],\"scatterpolar\":[{\"type\":\"scatterpolar\",\"marker\":{\"colorbar\":{\"outlinewidth\":0,\"ticks\":\"\"}}}],\"histogram\":[{\"marker\":{\"pattern\":{\"fillmode\":\"overlay\",\"size\":10,\"solidity\":0.2}},\"type\":\"histogram\"}],\"scattergl\":[{\"type\":\"scattergl\",\"marker\":{\"colorbar\":{\"outlinewidth\":0,\"ticks\":\"\"}}}],\"scatter3d\":[{\"type\":\"scatter3d\",\"line\":{\"colorbar\":{\"outlinewidth\":0,\"ticks\":\"\"}},\"marker\":{\"colorbar\":{\"outlinewidth\":0,\"ticks\":\"\"}}}],\"scattermapbox\":[{\"type\":\"scattermapbox\",\"marker\":{\"colorbar\":{\"outlinewidth\":0,\"ticks\":\"\"}}}],\"scatterternary\":[{\"type\":\"scatterternary\",\"marker\":{\"colorbar\":{\"outlinewidth\":0,\"ticks\":\"\"}}}],\"scattercarpet\":[{\"type\":\"scattercarpet\",\"marker\":{\"colorbar\":{\"outlinewidth\":0,\"ticks\":\"\"}}}],\"carpet\":[{\"aaxis\":{\"endlinecolor\":\"#2a3f5f\",\"gridcolor\":\"white\",\"linecolor\":\"white\",\"minorgridcolor\":\"white\",\"startlinecolor\":\"#2a3f5f\"},\"baxis\":{\"endlinecolor\":\"#2a3f5f\",\"gridcolor\":\"white\",\"linecolor\":\"white\",\"minorgridcolor\":\"white\",\"startlinecolor\":\"#2a3f5f\"},\"type\":\"carpet\"}],\"table\":[{\"cells\":{\"fill\":{\"color\":\"#EBF0F8\"},\"line\":{\"color\":\"white\"}},\"header\":{\"fill\":{\"color\":\"#C8D4E3\"},\"line\":{\"color\":\"white\"}},\"type\":\"table\"}],\"barpolar\":[{\"marker\":{\"line\":{\"color\":\"#E5ECF6\",\"width\":0.5},\"pattern\":{\"fillmode\":\"overlay\",\"size\":10,\"solidity\":0.2}},\"type\":\"barpolar\"}],\"pie\":[{\"automargin\":true,\"type\":\"pie\"}]},\"layout\":{\"autotypenumbers\":\"strict\",\"colorway\":[\"#636efa\",\"#EF553B\",\"#00cc96\",\"#ab63fa\",\"#FFA15A\",\"#19d3f3\",\"#FF6692\",\"#B6E880\",\"#FF97FF\",\"#FECB52\"],\"font\":{\"color\":\"#2a3f5f\"},\"hovermode\":\"closest\",\"hoverlabel\":{\"align\":\"left\"},\"paper_bgcolor\":\"white\",\"plot_bgcolor\":\"#E5ECF6\",\"polar\":{\"bgcolor\":\"#E5ECF6\",\"angularaxis\":{\"gridcolor\":\"white\",\"linecolor\":\"white\",\"ticks\":\"\"},\"radialaxis\":{\"gridcolor\":\"white\",\"linecolor\":\"white\",\"ticks\":\"\"}},\"ternary\":{\"bgcolor\":\"#E5ECF6\",\"aaxis\":{\"gridcolor\":\"white\",\"linecolor\":\"white\",\"ticks\":\"\"},\"baxis\":{\"gridcolor\":\"white\",\"linecolor\":\"white\",\"ticks\":\"\"},\"caxis\":{\"gridcolor\":\"white\",\"linecolor\":\"white\",\"ticks\":\"\"}},\"coloraxis\":{\"colorbar\":{\"outlinewidth\":0,\"ticks\":\"\"}},\"colorscale\":{\"sequential\":[[0.0,\"#0d0887\"],[0.1111111111111111,\"#46039f\"],[0.2222222222222222,\"#7201a8\"],[0.3333333333333333,\"#9c179e\"],[0.4444444444444444,\"#bd3786\"],[0.5555555555555556,\"#d8576b\"],[0.6666666666666666,\"#ed7953\"],[0.7777777777777778,\"#fb9f3a\"],[0.8888888888888888,\"#fdca26\"],[1.0,\"#f0f921\"]],\"sequentialminus\":[[0.0,\"#0d0887\"],[0.1111111111111111,\"#46039f\"],[0.2222222222222222,\"#7201a8\"],[0.3333333333333333,\"#9c179e\"],[0.4444444444444444,\"#bd3786\"],[0.5555555555555556,\"#d8576b\"],[0.6666666666666666,\"#ed7953\"],[0.7777777777777778,\"#fb9f3a\"],[0.8888888888888888,\"#fdca26\"],[1.0,\"#f0f921\"]],\"diverging\":[[0,\"#8e0152\"],[0.1,\"#c51b7d\"],[0.2,\"#de77ae\"],[0.3,\"#f1b6da\"],[0.4,\"#fde0ef\"],[0.5,\"#f7f7f7\"],[0.6,\"#e6f5d0\"],[0.7,\"#b8e186\"],[0.8,\"#7fbc41\"],[0.9,\"#4d9221\"],[1,\"#276419\"]]},\"xaxis\":{\"gridcolor\":\"white\",\"linecolor\":\"white\",\"ticks\":\"\",\"title\":{\"standoff\":15},\"zerolinecolor\":\"white\",\"automargin\":true,\"zerolinewidth\":2},\"yaxis\":{\"gridcolor\":\"white\",\"linecolor\":\"white\",\"ticks\":\"\",\"title\":{\"standoff\":15},\"zerolinecolor\":\"white\",\"automargin\":true,\"zerolinewidth\":2},\"scene\":{\"xaxis\":{\"backgroundcolor\":\"#E5ECF6\",\"gridcolor\":\"white\",\"linecolor\":\"white\",\"showbackground\":true,\"ticks\":\"\",\"zerolinecolor\":\"white\",\"gridwidth\":2},\"yaxis\":{\"backgroundcolor\":\"#E5ECF6\",\"gridcolor\":\"white\",\"linecolor\":\"white\",\"showbackground\":true,\"ticks\":\"\",\"zerolinecolor\":\"white\",\"gridwidth\":2},\"zaxis\":{\"backgroundcolor\":\"#E5ECF6\",\"gridcolor\":\"white\",\"linecolor\":\"white\",\"showbackground\":true,\"ticks\":\"\",\"zerolinecolor\":\"white\",\"gridwidth\":2}},\"shapedefaults\":{\"line\":{\"color\":\"#2a3f5f\"}},\"annotationdefaults\":{\"arrowcolor\":\"#2a3f5f\",\"arrowhead\":0,\"arrowwidth\":1},\"geo\":{\"bgcolor\":\"white\",\"landcolor\":\"#E5ECF6\",\"subunitcolor\":\"white\",\"showland\":true,\"showlakes\":true,\"lakecolor\":\"white\"},\"title\":{\"x\":0.05},\"mapbox\":{\"style\":\"light\"}}},\"title\":{\"text\":\"Actual vs Predicted Values\"},\"xaxis\":{\"title\":{\"text\":\"Actual Values\"}},\"yaxis\":{\"title\":{\"text\":\"Predicted Values\"}},\"showlegend\":true},                        {\"responsive\": true}                    ).then(function(){\n",
       "                            \n",
       "var gd = document.getElementById('e8cd47a9-2a56-47b2-8a51-26e1404eca09');\n",
       "var x = new MutationObserver(function (mutations, observer) {{\n",
       "        var display = window.getComputedStyle(gd).display;\n",
       "        if (!display || display === 'none') {{\n",
       "            console.log([gd, 'removed!']);\n",
       "            Plotly.purge(gd);\n",
       "            observer.disconnect();\n",
       "        }}\n",
       "}});\n",
       "\n",
       "// Listen for the removal of the full notebook cells\n",
       "var notebookContainer = gd.closest('#notebook-container');\n",
       "if (notebookContainer) {{\n",
       "    x.observe(notebookContainer, {childList: true});\n",
       "}}\n",
       "\n",
       "// Listen for the clearing of the current output cell\n",
       "var outputEl = gd.closest('.output');\n",
       "if (outputEl) {{\n",
       "    x.observe(outputEl, {childList: true});\n",
       "}}\n",
       "\n",
       "                        })                };                });            </script>        </div>"
      ]
     },
     "metadata": {},
     "output_type": "display_data"
    }
   ],
   "source": [
    "import pandas as pd\n",
    "import plotly.express as px\n",
    "import numpy as np\n",
    "import plotly.graph_objects as go\n",
    "from sklearn.preprocessing import StandardScaler\n",
    "from sklearn.ensemble import RandomForestRegressor\n",
    "from sklearn.model_selection import train_test_split\n",
    "import warnings\n",
    "import pickle\n",
    "\n",
    "data = pd.read_csv(\"dynamic_pricing.csv\")\n",
    "\n",
    "\n",
    "# Calculate demand_multiplier based on percentile for high and low demand\n",
    "high_demand_percentile = 75\n",
    "low_demand_percentile = 25\n",
    "\n",
    "data['demand_multiplier'] = np.where(data['Number_of_Riders'] > np.percentile(data['Number_of_Riders'], high_demand_percentile),\n",
    "                                     data['Number_of_Riders'] / np.percentile(data['Number_of_Riders'], high_demand_percentile),\n",
    "                                     data['Number_of_Riders'] / np.percentile(data['Number_of_Riders'], low_demand_percentile))\n",
    "\n",
    "# Calculate supply_multiplier based on percentile for high and low supply\n",
    "high_supply_percentile = 75\n",
    "low_supply_percentile = 25\n",
    "\n",
    "data['supply_multiplier'] = np.where(data['Number_of_Drivers'] > np.percentile(data['Number_of_Drivers'], low_supply_percentile),\n",
    "                                     np.percentile(data['Number_of_Drivers'], high_supply_percentile) / data['Number_of_Drivers'],\n",
    "                                     np.percentile(data['Number_of_Drivers'], low_supply_percentile) / data['Number_of_Drivers'])\n",
    "\n",
    "# Define price adjustment factors for high and low demand/supply\n",
    "demand_threshold_high = 1.2  # Higher demand threshold\n",
    "demand_threshold_low = 0.8  # Lower demand threshold\n",
    "supply_threshold_high = 0.8  # Higher supply threshold\n",
    "supply_threshold_low = 1.2  # Lower supply threshold\n",
    "\n",
    "# Calculate adjusted_ride_cost for dynamic pricing\n",
    "data['adjusted_ride_cost'] = data['Historical_Cost_of_Ride'] * (\n",
    "    np.maximum(data['demand_multiplier'], demand_threshold_low) *\n",
    "    np.maximum(data['supply_multiplier'], supply_threshold_high)\n",
    ")\n",
    "\n",
    "\n",
    "# Calculate the profit percentage for each ride\n",
    "data['profit_percentage'] = ((data['adjusted_ride_cost'] - data['Historical_Cost_of_Ride']) / data['Historical_Cost_of_Ride']) * 100\n",
    "# Identify profitable rides where profit percentage is positive\n",
    "profitable_rides = data[data['profit_percentage'] > 0]\n",
    "\n",
    "# Identify loss rides where profit percentage is negative\n",
    "loss_rides = data[data['profit_percentage'] < 0]\n",
    "\n",
    "# Calculate the count of profitable and loss rides\n",
    "profitable_count = len(profitable_rides)\n",
    "loss_count = len(loss_rides)\n",
    "\n",
    "# Create a donut chart to show the distribution of profitable and loss rides\n",
    "labels = ['Profitable Rides', 'Loss Rides']\n",
    "values = [profitable_count, loss_count]\n",
    "\n",
    "def data_preprocessing_pipeline(data):\n",
    "    #Identify numeric and categorical features\n",
    "    numeric_features = data.select_dtypes(include=['float', 'int']).columns\n",
    "    categorical_features = data.select_dtypes(include=['object']).columns\n",
    "\n",
    "    #Handle missing values in numeric features\n",
    "    data[numeric_features] = data[numeric_features].fillna(data[numeric_features].mean())\n",
    "\n",
    "    #Detect and handle outliers in numeric features using IQR\n",
    "    for feature in numeric_features:\n",
    "        Q1 = data[feature].quantile(0.25)\n",
    "        Q3 = data[feature].quantile(0.75)\n",
    "        IQR = Q3 - Q1\n",
    "        lower_bound = Q1 - (1.5 * IQR)\n",
    "        upper_bound = Q3 + (1.5 * IQR)\n",
    "        data[feature] = np.where((data[feature] < lower_bound) | (data[feature] > upper_bound),\n",
    "                                 data[feature].mean(), data[feature])\n",
    "\n",
    "    #Handle missing values in categorical features\n",
    "    data[categorical_features] = data[categorical_features].fillna(data[categorical_features].mode().iloc[0])\n",
    "\n",
    "    return data\n",
    "\n",
    "data[\"Vehicle_Type\"] = data[\"Vehicle_Type\"].map({\"Premium\": 1,\n",
    "                                                 \"Economy\": 0})\n",
    "\n",
    "#splitting data\n",
    "\n",
    "x = np.array(data[[\"Number_of_Riders\", \n",
    "                   \"Number_of_Drivers\", \n",
    "                   \"Vehicle_Type\", \n",
    "                   \"Expected_Ride_Duration\"]])\n",
    "y = np.array(data[[\"adjusted_ride_cost\"]])\n",
    "\n",
    "x_train, x_test, y_train, y_test = train_test_split(x,\n",
    "                                                    y,\n",
    "                                                    test_size=0.2,\n",
    "                                                    random_state=42)\n",
    "\n",
    "# Reshape y to 1D array\n",
    "y_train = y_train.ravel()\n",
    "y_test = y_test.ravel()\n",
    "\n",
    "# Training a random forest regression model\n",
    "\n",
    "model = RandomForestRegressor()\n",
    "model.fit(x_train, y_train)\n",
    "\n",
    "def get_vehicle_type_numeric(vehicle_type):\n",
    "    vehicle_type_mapping = {\n",
    "        \"Premium\": 1,\n",
    "        \"Economy\": 0\n",
    "    }\n",
    "    vehicle_type_numeric = vehicle_type_mapping.get(vehicle_type)\n",
    "    return vehicle_type_numeric\n",
    "  \n",
    "# Predicting using user input values\n",
    "def predict_price(number_of_riders, number_of_drivers, vehicle_type, Expected_Ride_Duration):\n",
    "    vehicle_type_numeric = get_vehicle_type_numeric(vehicle_type)\n",
    "    if vehicle_type_numeric is None:\n",
    "        raise ValueError(\"Invalid vehicle type\")\n",
    "    \n",
    "    input_data = np.array([[number_of_riders, \n",
    "                            number_of_drivers, \n",
    "                            vehicle_type_numeric, \n",
    "                            Expected_Ride_Duration]])\n",
    "    predicted_price = model.predict(input_data)\n",
    "    return predicted_price\n",
    "\n",
    "# Example prediction using user input values\n",
    "user_number_of_riders = 50\n",
    "user_number_of_drivers = 25\n",
    "user_vehicle_type = \"Economy\"\n",
    "Expected_Ride_Duration = 30\n",
    "predicted_price = predict_price(user_number_of_riders,\n",
    "                                user_number_of_drivers,\n",
    "                                user_vehicle_type,\n",
    "                                Expected_Ride_Duration)\n",
    "print(\"Predicted price:\", predicted_price)\n",
    "\n",
    "# Predict on the test set\n",
    "y_pred = model.predict(x_test)\n",
    "\n",
    "# Create a scatter plot with actual vs predicted values\n",
    "fig = go.Figure()\n",
    "\n",
    "fig.add_trace(go.Scatter(\n",
    "    x=y_test.flatten(),\n",
    "    y=y_pred,\n",
    "    mode='markers',\n",
    "    name='Actual vs Predicted'\n",
    "))\n",
    "\n",
    "# Add a line representing the ideal case\n",
    "fig.add_trace(go.Scatter(\n",
    "    x=[min(y_test.flatten()), max(y_test.flatten())],\n",
    "    y=[min(y_test.flatten()), max(y_test.flatten())],\n",
    "    mode='lines',\n",
    "    name='Ideal',\n",
    "    line=dict(color='red', dash='dash')\n",
    "))\n",
    "\n",
    "fig.update_layout(\n",
    "    title='Actual vs Predicted Values',\n",
    "    xaxis_title='Actual Values',\n",
    "    yaxis_title='Predicted Values',\n",
    "    showlegend=True,\n",
    ")\n",
    "\n",
    "fig.show()\n",
    "\n",
    "pickle.dump(model,open('model.pk1','wb'))\n",
    "model=pickle.load(open('model.pk1','rb'))\n",
    "\n"
   ]
  },
  {
   "cell_type": "code",
   "execution_count": null,
   "id": "3234e141-31e0-4b2e-8854-9528ee07b766",
   "metadata": {},
   "outputs": [],
   "source": []
  }
 ],
 "metadata": {
  "kernelspec": {
   "display_name": "Python 3 (ipykernel)",
   "language": "python",
   "name": "python3"
  },
  "language_info": {
   "codemirror_mode": {
    "name": "ipython",
    "version": 3
   },
   "file_extension": ".py",
   "mimetype": "text/x-python",
   "name": "python",
   "nbconvert_exporter": "python",
   "pygments_lexer": "ipython3",
   "version": "3.11.5"
  }
 },
 "nbformat": 4,
 "nbformat_minor": 5
}
